{
 "cells": [
  {
   "cell_type": "markdown",
   "metadata": {
    "slideshow": {
     "slide_type": "slide"
    }
   },
   "source": [
    "# Let's Get Relational"
   ]
  },
  {
   "cell_type": "markdown",
   "metadata": {
    "slideshow": {
     "slide_type": "fragment"
    }
   },
   "source": [
    "Building databases with Python's SQLite3 in 10 (relatively) easy steps"
   ]
  },
  {
   "cell_type": "markdown",
   "metadata": {
    "slideshow": {
     "slide_type": "slide"
    }
   },
   "source": [
    "## What is a SQLite database?"
   ]
  },
  {
   "cell_type": "markdown",
   "metadata": {
    "slideshow": {
     "slide_type": "fragment"
    }
   },
   "source": [
    "#### A group of datasets joined by keys\n",
    "The simplest way to think about a relational database is as a series of datasets in which a special \"key\" column in one dataset references a specific row in another dataset, allowing you to join and retrieve related pieces of information on quickly and simply."
   ]
  },
  {
   "cell_type": "markdown",
   "metadata": {
    "slideshow": {
     "slide_type": "slide"
    }
   },
   "source": [
    "#### That is stored locally on your computer\n",
    "Unlike many other relational database engines, like PostgreSQL or MySQL, which can be storage intensive and difficult to set up locally, SQLite is just one self-contained file."
   ]
  },
  {
   "cell_type": "markdown",
   "metadata": {
    "slideshow": {
     "slide_type": "slide"
    }
   },
   "source": [
    "## Example"
   ]
  },
  {
   "cell_type": "markdown",
   "metadata": {
    "slideshow": {
     "slide_type": "fragment"
    }
   },
   "source": [
    "#### You have the following datasets:\n",
    "- Demographics by CSA (combined statistical area) in Baltimore\n",
    "- List of polling locations in Baltimore\n",
    "- Turnout by voter district in Baltimore\n",
    "- 9-1-1 Calls"
   ]
  },
  {
   "cell_type": "markdown",
   "metadata": {
    "slideshow": {
     "slide_type": "slide"
    }
   },
   "source": [
    "#### And you want to retreive these subsets of the combined data:\n",
    "- A list of the polling locations in CSAs with populations that are at least 75% white\n",
    "- The demographic breakdown of CSAs that overlap with the voting district with the highest turnout\n",
    "- All of the 911 calls that placed within 1 mile of a polling location on election day"
   ]
  },
  {
   "cell_type": "markdown",
   "metadata": {
    "slideshow": {
     "slide_type": "slide"
    }
   },
   "source": [
    "## Why are they useful?"
   ]
  },
  {
   "cell_type": "markdown",
   "metadata": {
    "slideshow": {
     "slide_type": "fragment"
    }
   },
   "source": [
    "- Replace multiple spreadsheets with a single file\n",
    "- Merge once, share endlessly\n",
    "- Query what you need, when you need it"
   ]
  },
  {
   "cell_type": "markdown",
   "metadata": {
    "slideshow": {
     "slide_type": "slide"
    }
   },
   "source": [
    "## When do they come in handy?"
   ]
  },
  {
   "cell_type": "markdown",
   "metadata": {
    "slideshow": {
     "slide_type": "fragment"
    }
   },
   "source": [
    "#### If your analysis...\n",
    "- Rivals Frankenstein in the number of sources it stitches together\n",
    "- Calls `merge()` and `groupby()` 50 times before returning the first meaningful result\n",
    "- Takes longer to load than the family van on summer vacation"
   ]
  },
  {
   "cell_type": "markdown",
   "metadata": {
    "slideshow": {
     "slide_type": "slide"
    }
   },
   "source": [
    "#### ...you might want to use a SQLite database"
   ]
  },
  {
   "cell_type": "markdown",
   "metadata": {
    "slideshow": {
     "slide_type": "slide"
    }
   },
   "source": [
    "## Okay, okay how do I actually create one?"
   ]
  },
  {
   "cell_type": "markdown",
   "metadata": {
    "slideshow": {
     "slide_type": "slide"
    }
   },
   "source": [
    "### Let's start with something simple"
   ]
  },
  {
   "cell_type": "markdown",
   "metadata": {
    "slideshow": {
     "slide_type": "fragment"
    }
   },
   "source": [
    "Combining several playlists into a single music library with the following information:\n",
    "- Album\n",
    "- Artist\n",
    "- Duration\n",
    "- Genre"
   ]
  },
  {
   "cell_type": "markdown",
   "metadata": {
    "slideshow": {
     "slide_type": "slide"
    }
   },
   "source": [
    "### Step 1: Import pandas and playlist for cleanup"
   ]
  },
  {
   "cell_type": "code",
   "execution_count": 2,
   "metadata": {
    "slideshow": {
     "slide_type": "fragment"
    }
   },
   "outputs": [],
   "source": [
    "import pandas as pd\n",
    "\n",
    "#read entire excel file to avoid multiple reads\n",
    "xlsx = pd.ExcelFile(\"P4GC_SQLite3_Test.xlsx\")\n",
    "\n",
    "#read each sheet to a different dataframe\n",
    "df_gritty = pd.read_excel(xlsx, \"Gritty Playlist\")\n",
    "df_mix = pd.read_excel(xlsx, \"Mix Tape Playlist\")\n",
    "df_alt = pd.read_excel(xlsx, \"Alt Playlist\")\n",
    "df_rainy = pd.read_excel(xlsx, \"Rainy Day Playlist\")"
   ]
  },
  {
   "cell_type": "markdown",
   "metadata": {
    "slideshow": {
     "slide_type": "slide"
    }
   },
   "source": [
    "### Step 2: Data munging magic"
   ]
  },
  {
   "cell_type": "markdown",
   "metadata": {
    "slideshow": {
     "slide_type": "fragment"
    }
   },
   "source": [
    "![magic](https://media.giphy.com/media/GjPf6uoxopCIE/giphy.gif)"
   ]
  },
  {
   "cell_type": "code",
   "execution_count": 10,
   "metadata": {
    "slideshow": {
     "slide_type": "slide"
    }
   },
   "outputs": [],
   "source": [
    "#add corresponding playlist name to new playlist column\n",
    "df_gritty[\"Playlist\"] = \"Gritty\"\n",
    "df_mix[\"Playlist\"] = \"Mix Tape\"\n",
    "df_alt[\"Playlist\"] = \"Alt\"\n",
    "df_rainy[\"Playlist\"] = \"Rainy Day\"\n",
    "\n",
    "#combine playlists and reset the index\n",
    "df_all = pd.concat([df_gritty, df_mix, df_alt, df_rainy], ignore_index=True)"
   ]
  },
  {
   "cell_type": "code",
   "execution_count": 11,
   "metadata": {
    "slideshow": {
     "slide_type": "-"
    }
   },
   "outputs": [],
   "source": [
    "#convert the duration timestamp to a duration delta\n",
    "df_all[\"Duration_Delta\"] = df_all[\"Duration\"].apply(lambda x: pd.Timedelta(days=0,\n",
    "                                                                           minutes=x.minute,\n",
    "                                                                           seconds=x.second))\n",
    "#extract the total duration in seconds from the duration delta\n",
    "df_all[\"Duration_Seconds\"] = df_all[\"Duration_Delta\"].dt.seconds\n",
    "\n",
    "#export the records to a list of dicts\n",
    "records_raw = df_all.to_dict(\"records\")"
   ]
  },
  {
   "cell_type": "code",
   "execution_count": 12,
   "metadata": {
    "slideshow": {
     "slide_type": "skip"
    }
   },
   "outputs": [],
   "source": [
    "#inserts a record for each artist on a song\n",
    "artist_records = [{\"Artist\": y, \n",
    "                   \"Album\": x[\"Album\"],\n",
    "                   \"Song\": x[\"Song\"], \n",
    "                   \"Playlist\": x[\"Playlist\"],\n",
    "                   \"Duration_Delta\": x[\"Duration_Delta\"],\n",
    "                   \"Duration_Seconds\": x[\"Duration_Seconds\"]}\n",
    "                  for x in records_raw for y in x[\"Artist\"]]\n",
    "\n",
    "#converts the list of records back into dataframes for further manipulation\n",
    "df_artist_raw = pd.DataFrame(artist_records)"
   ]
  },
  {
   "cell_type": "code",
   "execution_count": 13,
   "metadata": {
    "slideshow": {
     "slide_type": "skip"
    }
   },
   "outputs": [],
   "source": [
    "#inserts a record for each genre on a song\n",
    "genre_records = [{\"Genre\": y, \n",
    "                  \"Album\": x[\"Album\"],\n",
    "                  \"Song\": x[\"Song\"], \n",
    "                  \"Playlist\": x[\"Playlist\"],\n",
    "                  \"Duration_Delta\": x[\"Duration_Delta\"],\n",
    "                  \"Duration_Seconds\": x[\"Duration_Seconds\"]}\n",
    "                 for x in records_raw for y in x[\"Genre\"]]\n",
    "\n",
    "#converts the list of records back into dataframes for further manipulation\n",
    "df_genre_raw = pd.DataFrame(genre_records)"
   ]
  },
  {
   "cell_type": "code",
   "execution_count": 14,
   "metadata": {
    "slideshow": {
     "slide_type": "skip"
    }
   },
   "outputs": [],
   "source": [
    "#pulls unique album names and aggregates song count and duration\n",
    "df_album = (df_all.groupby(\"Album\", as_index=False)\n",
    "                  .agg({\"Song\": \"count\",\n",
    "                        \"Duration_Seconds\": \"sum\",\n",
    "                        \"Duration_Delta\": \"sum\"}))\n",
    "\n",
    "#drops songs that appear in multiple playlists\n",
    "df_song = df_all.drop_duplicates([\"Album\",\"Song\"])"
   ]
  },
  {
   "cell_type": "code",
   "execution_count": 15,
   "metadata": {
    "slideshow": {
     "slide_type": "skip"
    }
   },
   "outputs": [],
   "source": [
    "#pulls unique album names and aggregates song count and duration \n",
    "df_playlist = (df_all.groupby(\"Playlist\", as_index=False)\n",
    "                     .agg({\"Song\": \"count\",\n",
    "                           \"Duration_Seconds\": \"sum\",\n",
    "                           \"Duration_Delta\": \"sum\"}))\n",
    "\n",
    "#pulls unique genres and aggregates song count and duration\n",
    "df_genre = (df_genre_raw.drop_duplicates([\"Album\",\"Song\"])\n",
    "                        .groupby(\"Genre\", as_index=False)\n",
    "                        .agg({\"Song\": \"count\",\n",
    "                              \"Duration_Seconds\": \"sum\",\n",
    "                              \"Duration_Delta\": \"sum\"}))\n",
    "\n",
    "#pulls unique artists and aggregates song count and duration\n",
    "df_artist = (df_artist_raw.drop_duplicates([\"Artist\",\"Song\"])\n",
    "                          .groupby(\"Artist\", as_index=False)\n",
    "                          .agg({\"Song\": \"count\",\n",
    "                                \"Duration_Seconds\": \"sum\",\n",
    "                                \"Duration_Delta\": \"sum\"}))"
   ]
  },
  {
   "cell_type": "markdown",
   "metadata": {
    "slideshow": {
     "slide_type": "slide"
    }
   },
   "source": [
    "### Step 3: Install SQLite and sqlite3 and create your database"
   ]
  },
  {
   "cell_type": "markdown",
   "metadata": {
    "slideshow": {
     "slide_type": "fragment"
    }
   },
   "source": [
    "1. Install sqlite and GUI interface for the database by downloading this app: http://sqlitebrowser.org/\n",
    "\n",
    "1. Install sqlite3 package to manage sqlite databases with python by executing `! pip install sqlite3`\n",
    "\n",
    "1. Create your database file by executing `! touch Album.db`"
   ]
  },
  {
   "cell_type": "markdown",
   "metadata": {
    "slideshow": {
     "slide_type": "slide"
    }
   },
   "source": [
    "### Step 4: Import the library and connect to your database"
   ]
  },
  {
   "cell_type": "code",
   "execution_count": 23,
   "metadata": {
    "slideshow": {
     "slide_type": "fragment"
    }
   },
   "outputs": [],
   "source": [
    "import sqlite3\n",
    "conn = sqlite3.connect(\"AlbumDB.db\")\n",
    "c = conn.cursor()"
   ]
  },
  {
   "cell_type": "markdown",
   "metadata": {
    "slideshow": {
     "slide_type": "slide"
    }
   },
   "source": [
    "### Step 5: Create and insert the table without foreign keys"
   ]
  },
  {
   "cell_type": "markdown",
   "metadata": {
    "slideshow": {
     "slide_type": "fragment"
    }
   },
   "source": [
    "#### Start with the albums..."
   ]
  },
  {
   "cell_type": "code",
   "execution_count": 16,
   "metadata": {
    "slideshow": {
     "slide_type": "-"
    }
   },
   "outputs": [],
   "source": [
    "#convert df to list of tuples and reformat each value for entry to database\n",
    "album_records = [(x[\"Album\"],\n",
    "                  str(x[\"Duration_Delta\"]),\n",
    "                  int(x[\"Duration_Seconds\"]), \n",
    "                  int(x[\"Song\"]))\n",
    "                 for x in df_album.to_dict(\"records\")]"
   ]
  },
  {
   "cell_type": "code",
   "execution_count": 18,
   "metadata": {
    "slideshow": {
     "slide_type": "slide"
    }
   },
   "outputs": [],
   "source": [
    "#creates album table\n",
    "c.execute('DROP TABLE IF EXISTS Album')\n",
    "c.execute('''CREATE TABLE Album (\n",
    "                Id INTEGER NOT NULL PRIMARY KEY AUTOINCREMENT UNIQUE,\n",
    "                Name TEXT,\n",
    "                Duration_Text TEXT,\n",
    "                Duration_Seconds INTEGER,\n",
    "                Song_Count INTEGER\n",
    "             )''')\n",
    "#inserts values from album_record list\n",
    "c.executemany('''INSERT INTO Album (Name, Duration_Text, Duration_Seconds, Song_Count)\n",
    "                 VALUES (?,?,?,?)''',\n",
    "              album_records)\n",
    "#commits changes to the database\n",
    "conn.commit()"
   ]
  },
  {
   "cell_type": "code",
   "execution_count": null,
   "metadata": {
    "slideshow": {
     "slide_type": "skip"
    }
   },
   "outputs": [],
   "source": [
    "#convert df to list of tuples and reformat each value for entry to database\n",
    "playlist_records = [(x[\"Playlist\"],\n",
    "                     str(x[\"Duration_Delta\"]),\n",
    "                     int(x[\"Duration_Seconds\"]), \n",
    "                     int(x[\"Song\"]))\n",
    "                    for x in df_playlist.to_dict(\"records\")]"
   ]
  },
  {
   "cell_type": "code",
   "execution_count": null,
   "metadata": {
    "slideshow": {
     "slide_type": "skip"
    }
   },
   "outputs": [],
   "source": [
    "#creates playlist table\n",
    "c.execute('DROP TABLE IF EXISTS Playlist')\n",
    "c.execute('''CREATE TABLE Playlist (\n",
    "                Id INTEGER NOT NULL PRIMARY KEY AUTOINCREMENT UNIQUE,\n",
    "                Name TEXT,\n",
    "                Duration_Text TEXT,\n",
    "                Duration_Seconds INTEGER,\n",
    "                Song_Count INTEGER\n",
    "             )''')\n",
    "#inserts values from playlist_record list\n",
    "c.executemany('''INSERT INTO Playlist (Name, Duration_Text, Duration_Seconds, Song_Count)\n",
    "                 VALUES (?,?,?,?)''',\n",
    "              playlist_records)\n",
    "#commits changes to the database\n",
    "conn.commit()"
   ]
  },
  {
   "cell_type": "code",
   "execution_count": null,
   "metadata": {
    "slideshow": {
     "slide_type": "skip"
    }
   },
   "outputs": [],
   "source": [
    "#convert df to list of tuples and reformat each value for entry to database\n",
    "artist_records = [(x[\"Artist\"],\n",
    "                   str(x[\"Duration_Delta\"]),\n",
    "                   int(x[\"Duration_Seconds\"]), \n",
    "                   int(x[\"Song\"]))\n",
    "                  for x in df_artist.to_dict(\"records\")]"
   ]
  },
  {
   "cell_type": "code",
   "execution_count": null,
   "metadata": {
    "slideshow": {
     "slide_type": "skip"
    }
   },
   "outputs": [],
   "source": [
    "#creates Artist table\n",
    "c.execute('DROP TABLE IF EXISTS Artist')\n",
    "c.execute('''CREATE TABLE Artist (\n",
    "                Id INTEGER NOT NULL PRIMARY KEY AUTOINCREMENT UNIQUE,\n",
    "                Name TEXT,\n",
    "                Duration_Text TEXT,\n",
    "                Duration_Seconds INTEGER,\n",
    "                Song_Count INTEGER\n",
    "             )''')\n",
    "#inserts values from artist_records list\n",
    "c.executemany('''INSERT INTO Artist (Name, Duration_Text, Duration_Seconds, Song_Count)\n",
    "                 VALUES (?,?,?,?)''',\n",
    "              artist_records)\n",
    "#commits changes to the database\n",
    "conn.commit()"
   ]
  },
  {
   "cell_type": "code",
   "execution_count": null,
   "metadata": {
    "slideshow": {
     "slide_type": "skip"
    }
   },
   "outputs": [],
   "source": [
    "#convert df to list of tuples and reformat each value for entry to database\n",
    "genre_records = [(x[\"Genre\"],\n",
    "                  str(x[\"Duration_Delta\"]),\n",
    "                  int(x[\"Duration_Seconds\"]), \n",
    "                  int(x[\"Song\"]))\n",
    "                 for x in df_genre.to_dict(\"records\")]"
   ]
  },
  {
   "cell_type": "code",
   "execution_count": null,
   "metadata": {
    "slideshow": {
     "slide_type": "skip"
    }
   },
   "outputs": [],
   "source": [
    "#creates genre table\n",
    "c.execute('DROP TABLE IF EXISTS Genre')\n",
    "c.execute('''CREATE TABLE Genre (\n",
    "                Id INTEGER NOT NULL PRIMARY KEY AUTOINCREMENT UNIQUE,\n",
    "                Name TEXT,\n",
    "                Duration_Text TEXT,\n",
    "                Duration_Seconds INTEGER,\n",
    "                Song_Count INTEGER\n",
    "             )''')\n",
    "#inserts values from artist_records list\n",
    "c.executemany('''INSERT INTO Genre (Name, Duration_Text, Duration_Seconds, Song_Count)\n",
    "                 VALUES (?,?,?,?)''',\n",
    "              genre_records)\n",
    "#commits changes to the database\n",
    "conn.commit()"
   ]
  },
  {
   "cell_type": "markdown",
   "metadata": {
    "slideshow": {
     "slide_type": "slide"
    }
   },
   "source": [
    "### Step 6: rinse and repeat for playlists, artists, and genres"
   ]
  },
  {
   "cell_type": "markdown",
   "metadata": {
    "slideshow": {
     "slide_type": "slide"
    }
   },
   "source": [
    "### Step 7: Query records, merge, and repeat the process for tables with foreign keys"
   ]
  },
  {
   "cell_type": "markdown",
   "metadata": {
    "slideshow": {
     "slide_type": "fragment"
    }
   },
   "source": [
    "#### Start with the songs..."
   ]
  },
  {
   "cell_type": "code",
   "execution_count": 19,
   "metadata": {},
   "outputs": [],
   "source": [
    "#query and retrieve name and id field from album table\n",
    "c.execute('SELECT Id, Name FROM Album')\n",
    "album_ids = c.fetchall()"
   ]
  },
  {
   "cell_type": "code",
   "execution_count": 21,
   "metadata": {
    "slideshow": {
     "slide_type": "slide"
    }
   },
   "outputs": [
    {
     "data": {
      "text/html": [
       "<div>\n",
       "<style scoped>\n",
       "    .dataframe tbody tr th:only-of-type {\n",
       "        vertical-align: middle;\n",
       "    }\n",
       "\n",
       "    .dataframe tbody tr th {\n",
       "        vertical-align: top;\n",
       "    }\n",
       "\n",
       "    .dataframe thead th {\n",
       "        text-align: right;\n",
       "    }\n",
       "</style>\n",
       "<table border=\"1\" class=\"dataframe\">\n",
       "  <thead>\n",
       "    <tr style=\"text-align: right;\">\n",
       "      <th></th>\n",
       "      <th>Song</th>\n",
       "      <th>Artist</th>\n",
       "      <th>Album</th>\n",
       "      <th>Duration</th>\n",
       "      <th>Genre</th>\n",
       "      <th>Playlist</th>\n",
       "      <th>Duration_Delta</th>\n",
       "      <th>Duration_Seconds</th>\n",
       "      <th>Id</th>\n",
       "    </tr>\n",
       "  </thead>\n",
       "  <tbody>\n",
       "    <tr>\n",
       "      <th>0</th>\n",
       "      <td>S.O.B.</td>\n",
       "      <td>Nathaniel Rateliff &amp; The Night Sweats</td>\n",
       "      <td>Nathaniel Rateliff &amp; The Night Sweats</td>\n",
       "      <td>00:04:08</td>\n",
       "      <td>Rock;Soul;Blues</td>\n",
       "      <td>Gritty</td>\n",
       "      <td>00:04:08</td>\n",
       "      <td>248</td>\n",
       "      <td>11</td>\n",
       "    </tr>\n",
       "    <tr>\n",
       "      <th>1</th>\n",
       "      <td>Howling At Nothing</td>\n",
       "      <td>Nathaniel Rateliff &amp; The Night Sweats</td>\n",
       "      <td>Nathaniel Rateliff &amp; The Night Sweats</td>\n",
       "      <td>00:03:10</td>\n",
       "      <td>Soul;Blues;Rock</td>\n",
       "      <td>Gritty</td>\n",
       "      <td>00:03:10</td>\n",
       "      <td>190</td>\n",
       "      <td>11</td>\n",
       "    </tr>\n",
       "    <tr>\n",
       "      <th>2</th>\n",
       "      <td>Lengths</td>\n",
       "      <td>The Black Keys</td>\n",
       "      <td>Rubber Factory</td>\n",
       "      <td>00:04:52</td>\n",
       "      <td>Blues;Rock;Folk</td>\n",
       "      <td>Gritty</td>\n",
       "      <td>00:04:52</td>\n",
       "      <td>292</td>\n",
       "      <td>15</td>\n",
       "    </tr>\n",
       "  </tbody>\n",
       "</table>\n",
       "</div>"
      ],
      "text/plain": [
       "                 Song                                 Artist  \\\n",
       "0              S.O.B.  Nathaniel Rateliff & The Night Sweats   \n",
       "1  Howling At Nothing  Nathaniel Rateliff & The Night Sweats   \n",
       "2             Lengths                         The Black Keys   \n",
       "\n",
       "                                   Album  Duration            Genre Playlist  \\\n",
       "0  Nathaniel Rateliff & The Night Sweats  00:04:08  Rock;Soul;Blues   Gritty   \n",
       "1  Nathaniel Rateliff & The Night Sweats  00:03:10  Soul;Blues;Rock   Gritty   \n",
       "2                         Rubber Factory  00:04:52  Blues;Rock;Folk   Gritty   \n",
       "\n",
       "  Duration_Delta  Duration_Seconds  Id  \n",
       "0       00:04:08               248  11  \n",
       "1       00:03:10               190  11  \n",
       "2       00:04:52               292  15  "
      ]
     },
     "execution_count": 21,
     "metadata": {},
     "output_type": "execute_result"
    }
   ],
   "source": [
    "#convert to dataframe then merge with df_song\n",
    "df_album_id = pd.DataFrame(album_ids, columns=[\"Id\", \"Album\"])\n",
    "\n",
    "df_song_join = df_song.merge(df_album_id, on=\"Album\")\n",
    "df_song_join.head(3)"
   ]
  },
  {
   "cell_type": "code",
   "execution_count": null,
   "metadata": {
    "slideshow": {
     "slide_type": "slide"
    }
   },
   "outputs": [],
   "source": [
    "#convert df to list of tuples and reformat each value for entry to database\n",
    "song_records = [(x[\"Song\"],\n",
    "                 str(x[\"Duration_Delta\"]),\n",
    "                 int(x[\"Duration_Seconds\"]), \n",
    "                 int(x[\"Id\"]))\n",
    "                for x in df_song_join.to_dict(\"records\")]"
   ]
  },
  {
   "cell_type": "code",
   "execution_count": null,
   "metadata": {
    "slideshow": {
     "slide_type": "slide"
    }
   },
   "outputs": [],
   "source": [
    "#creates song table\n",
    "c.execute('DROP TABLE IF EXISTS Song')\n",
    "c.execute('''CREATE TABLE Song (\n",
    "                Id INTEGER NOT NULL PRIMARY KEY AUTOINCREMENT UNIQUE,\n",
    "                Name TEXT,\n",
    "                Duration_Text TEXT,\n",
    "                Duration_Seconds INTEGER,\n",
    "                Album_Id INTEGER,\n",
    "                FOREIGN KEY(Album_Id) REFERENCES Album (Id)\n",
    "             )''')\n",
    "#inserts values from artist_records list\n",
    "c.executemany('''INSERT INTO Song (Name, Duration_Text, Duration_Seconds, Album_Id)\n",
    "                 VALUES (?,?,?,?)''',\n",
    "              song_records)\n",
    "#commits changes to the database\n",
    "conn.commit()"
   ]
  },
  {
   "cell_type": "markdown",
   "metadata": {
    "slideshow": {
     "slide_type": "slide"
    }
   },
   "source": [
    "### Step 8: Rinse and repeat to join playlists, songs, genres, and artists "
   ]
  },
  {
   "cell_type": "code",
   "execution_count": 24,
   "metadata": {
    "slideshow": {
     "slide_type": "skip"
    }
   },
   "outputs": [],
   "source": [
    "#query and retrieve name and id field from song table\n",
    "c.execute('SELECT Id, Name FROM Song')\n",
    "song_ids = c.fetchall()\n",
    "\n",
    "#query and retrieve name and id fields from playlist table\n",
    "c.execute('SELECT Id, Name FROM Playlist')\n",
    "playlist_ids = c.fetchall()"
   ]
  },
  {
   "cell_type": "code",
   "execution_count": null,
   "metadata": {
    "slideshow": {
     "slide_type": "skip"
    }
   },
   "outputs": [],
   "source": [
    "#convert results to dataframes\n",
    "df_song_id = pd.DataFrame(song_ids, columns=[\"Song_Id\", \"Song\"])\n",
    "df_playlist_id = pd.DataFrame(playlist_ids, columns=[\"Playlist_Id\", \"Playlist\"])"
   ]
  },
  {
   "cell_type": "code",
   "execution_count": null,
   "metadata": {
    "slideshow": {
     "slide_type": "skip"
    }
   },
   "outputs": [],
   "source": [
    "df_playlist_song1 = df_all.merge(df_song_id, on=\"Song\")\n",
    "df_playlist_song2 = df_playlist_song1.merge(df_playlist_id, on=\"Playlist\")"
   ]
  },
  {
   "cell_type": "code",
   "execution_count": null,
   "metadata": {
    "slideshow": {
     "slide_type": "skip"
    }
   },
   "outputs": [],
   "source": [
    "#creates playlist song table\n",
    "c.execute('DROP TABLE IF EXISTS Playlist_Song')\n",
    "c.execute('''CREATE TABLE Playlist_Song (\n",
    "             Song_Id INTEGER,\n",
    "             Playlist_Id INTEGER,\n",
    "             PRIMARY KEY(Song_Id, Playlist_Id),\n",
    "             FOREIGN KEY(Song_Id) REFERENCES Song (Id),\n",
    "             FOREIGN KEY(Playlist_Id) REFERENCES Playlist (Id))''')\n",
    "\n",
    "c.executemany('INSERT INTO Playlist_Song (Song_ID, Playlist_ID) VALUES (?, ?)',\n",
    "              playlist_song_records)\n",
    "conn.commit()"
   ]
  },
  {
   "cell_type": "markdown",
   "metadata": {
    "slideshow": {
     "slide_type": "slide"
    }
   },
   "source": [
    "### Step 9:  Query a subset of records you just inserted"
   ]
  },
  {
   "cell_type": "markdown",
   "metadata": {
    "slideshow": {
     "slide_type": "slide"
    }
   },
   "source": [
    "#### Retrieve all of the albums with at least one song on the Mix Tape playlist"
   ]
  },
  {
   "cell_type": "code",
   "execution_count": 28,
   "metadata": {
    "slideshow": {
     "slide_type": "-"
    }
   },
   "outputs": [],
   "source": [
    "c.execute(\"\"\"SELECT Album.Name AS 'Album', Song.Name AS 'Song', Album.Duration_Text as 'Length', \n",
    "             Playlist.Name as 'Playlist' FROM Album, Song, Playlist, Playlist_Song\n",
    "             WHERE Song.Album_Id = Album.Id \n",
    "             AND Song.Id = Playlist_Song.Song_Id\n",
    "             AND Playlist_Song.Playlist_Id = Playlist.Id\n",
    "             AND Playlist.Name = 'Mix Tape'\"\"\")\n",
    "new_query = c.fetchall()"
   ]
  },
  {
   "cell_type": "markdown",
   "metadata": {
    "slideshow": {
     "slide_type": "slide"
    }
   },
   "source": [
    "#### Convert to a dataframe and view your results"
   ]
  },
  {
   "cell_type": "code",
   "execution_count": 30,
   "metadata": {
    "slideshow": {
     "slide_type": "-"
    }
   },
   "outputs": [
    {
     "data": {
      "text/html": [
       "<div>\n",
       "<style scoped>\n",
       "    .dataframe tbody tr th:only-of-type {\n",
       "        vertical-align: middle;\n",
       "    }\n",
       "\n",
       "    .dataframe tbody tr th {\n",
       "        vertical-align: top;\n",
       "    }\n",
       "\n",
       "    .dataframe thead th {\n",
       "        text-align: right;\n",
       "    }\n",
       "</style>\n",
       "<table border=\"1\" class=\"dataframe\">\n",
       "  <thead>\n",
       "    <tr style=\"text-align: right;\">\n",
       "      <th></th>\n",
       "      <th>Album</th>\n",
       "      <th>Song</th>\n",
       "      <th>Album Length</th>\n",
       "      <th>Playlist</th>\n",
       "    </tr>\n",
       "  </thead>\n",
       "  <tbody>\n",
       "    <tr>\n",
       "      <th>0</th>\n",
       "      <td>Skeptic Goodbyes</td>\n",
       "      <td>Who Knew</td>\n",
       "      <td>0 days 00:09:00</td>\n",
       "      <td>Mix Tape</td>\n",
       "    </tr>\n",
       "    <tr>\n",
       "      <th>1</th>\n",
       "      <td>Ben Kweller</td>\n",
       "      <td>Thirteen</td>\n",
       "      <td>0 days 00:12:40</td>\n",
       "      <td>Mix Tape</td>\n",
       "    </tr>\n",
       "    <tr>\n",
       "      <th>2</th>\n",
       "      <td>White Blood Cells</td>\n",
       "      <td>We're Going To Be Friends</td>\n",
       "      <td>0 days 00:02:22</td>\n",
       "      <td>Mix Tape</td>\n",
       "    </tr>\n",
       "    <tr>\n",
       "      <th>3</th>\n",
       "      <td>Peaceful, The World Lays Me Down</td>\n",
       "      <td>5 Years Time</td>\n",
       "      <td>0 days 00:05:40</td>\n",
       "      <td>Mix Tape</td>\n",
       "    </tr>\n",
       "    <tr>\n",
       "      <th>4</th>\n",
       "      <td>Peaceful, The World Lays Me Down</td>\n",
       "      <td>2 Atoms In A Molecule</td>\n",
       "      <td>0 days 00:05:40</td>\n",
       "      <td>Mix Tape</td>\n",
       "    </tr>\n",
       "  </tbody>\n",
       "</table>\n",
       "</div>"
      ],
      "text/plain": [
       "                              Album                       Song  \\\n",
       "0                  Skeptic Goodbyes                   Who Knew   \n",
       "1                       Ben Kweller                   Thirteen   \n",
       "2                 White Blood Cells  We're Going To Be Friends   \n",
       "3  Peaceful, The World Lays Me Down               5 Years Time   \n",
       "4  Peaceful, The World Lays Me Down      2 Atoms In A Molecule   \n",
       "\n",
       "      Album Length  Playlist  \n",
       "0  0 days 00:09:00  Mix Tape  \n",
       "1  0 days 00:12:40  Mix Tape  \n",
       "2  0 days 00:02:22  Mix Tape  \n",
       "3  0 days 00:05:40  Mix Tape  \n",
       "4  0 days 00:05:40  Mix Tape  "
      ]
     },
     "execution_count": 30,
     "metadata": {},
     "output_type": "execute_result"
    }
   ],
   "source": [
    "df_query = pd.DataFrame(new_query)\n",
    "df_query.columns = ['Album', 'Song', 'Album Length', 'Playlist']\n",
    "df_query.head()"
   ]
  },
  {
   "cell_type": "markdown",
   "metadata": {
    "slideshow": {
     "slide_type": "slide"
    }
   },
   "source": [
    "### Step 10: Share your newly polished database and pat yourself on the back"
   ]
  },
  {
   "cell_type": "markdown",
   "metadata": {
    "slideshow": {
     "slide_type": "fragment"
    }
   },
   "source": [
    "![self-five](https://i1.wp.com/gifrific.com/wp-content/uploads/2012/04/Tina-Fey-giving-herself-high-five.gif?ssl=1)"
   ]
  },
  {
   "cell_type": "code",
   "execution_count": null,
   "metadata": {
    "slideshow": {
     "slide_type": "skip"
    }
   },
   "outputs": [],
   "source": []
  }
 ],
 "metadata": {
  "celltoolbar": "Slideshow",
  "kernelspec": {
   "display_name": "Python 3",
   "language": "python",
   "name": "python3"
  },
  "language_info": {
   "codemirror_mode": {
    "name": "ipython",
    "version": 3
   },
   "file_extension": ".py",
   "mimetype": "text/x-python",
   "name": "python",
   "nbconvert_exporter": "python",
   "pygments_lexer": "ipython3",
   "version": "3.6.5"
  }
 },
 "nbformat": 4,
 "nbformat_minor": 2
}
