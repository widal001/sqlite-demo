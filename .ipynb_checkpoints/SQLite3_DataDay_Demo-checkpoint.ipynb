{
 "cells": [
  {
   "cell_type": "markdown",
   "metadata": {
    "slideshow": {
     "slide_type": "slide"
    }
   },
   "source": [
    "# Let's Get Relational"
   ]
  },
  {
   "cell_type": "markdown",
   "metadata": {
    "slideshow": {
     "slide_type": "fragment"
    }
   },
   "source": [
    "Building lightweight databases with Python's SQLite3 module"
   ]
  },
  {
   "cell_type": "markdown",
   "metadata": {
    "slideshow": {
     "slide_type": "slide"
    }
   },
   "source": [
    "## What is a SQLite database?"
   ]
  },
  {
   "cell_type": "markdown",
   "metadata": {
    "slideshow": {
     "slide_type": "fragment"
    }
   },
   "source": [
    "#### Datasets joined by keys\n",
    "The simplest way to think about a relational database is as a series of datasets in which a special \"key\" column in one dataset references a specific row in another dataset, allowing you to join and retrieve related pieces of information on quickly and simply."
   ]
  },
  {
   "cell_type": "markdown",
   "metadata": {
    "slideshow": {
     "slide_type": "slide"
    }
   },
   "source": [
    "#### That are stored locally on your computer\n",
    "Unlike many other relational database engines, like PostgreSQL or MySQL, which can be storage intensive and difficult to set up locally, SQLite is just one self-contained file."
   ]
  },
  {
   "cell_type": "markdown",
   "metadata": {
    "slideshow": {
     "slide_type": "slide"
    }
   },
   "source": [
    "## Example"
   ]
  },
  {
   "cell_type": "markdown",
   "metadata": {
    "slideshow": {
     "slide_type": "fragment"
    }
   },
   "source": [
    "#### You have the following datasets:\n",
    "- Demographics by CSA (combined statistical area) in Baltimore\n",
    "- List of polling locations in Baltimore\n",
    "- Turnout by voter district in Baltimore\n",
    "- 9-1-1 Calls"
   ]
  },
  {
   "cell_type": "markdown",
   "metadata": {
    "slideshow": {
     "slide_type": "slide"
    }
   },
   "source": [
    "#### And you want to retreive these subsets of the combined data:\n",
    "- A list of the polling locations in CSAs with populations that are at least 75% white\n",
    "- The demographic breakdown of CSAs that overlap with the voting district with the highest turnout\n",
    "- All of the 911 calls that placed within 1 mile of a polling location on election day"
   ]
  },
  {
   "cell_type": "markdown",
   "metadata": {
    "slideshow": {
     "slide_type": "slide"
    }
   },
   "source": [
    "## Why are they useful?"
   ]
  },
  {
   "cell_type": "markdown",
   "metadata": {
    "slideshow": {
     "slide_type": "fragment"
    }
   },
   "source": [
    "- Replace multiple spreadsheets with a single file\n",
    "- Merge once, share endlessly\n",
    "- Query what you need, when you need it"
   ]
  },
  {
   "cell_type": "markdown",
   "metadata": {
    "slideshow": {
     "slide_type": "slide"
    }
   },
   "source": [
    "## When do they come in handy?"
   ]
  },
  {
   "cell_type": "markdown",
   "metadata": {
    "slideshow": {
     "slide_type": "fragment"
    }
   },
   "source": [
    "#### If your analysis...\n",
    "- Rivals Frankenstein in the number of sources it stitches together\n",
    "- Calls `merge()` and `groupby()` 50 times before returning the first meaningful result\n",
    "- Takes longer to load than the family van on summer vacation"
   ]
  },
  {
   "cell_type": "markdown",
   "metadata": {
    "slideshow": {
     "slide_type": "slide"
    }
   },
   "source": [
    "#### ...you might want to use a SQLite database"
   ]
  },
  {
   "cell_type": "markdown",
   "metadata": {
    "slideshow": {
     "slide_type": "slide"
    }
   },
   "source": [
    "## Okay, okay how do I actually create one?"
   ]
  },
  {
   "cell_type": "markdown",
   "metadata": {
    "slideshow": {
     "slide_type": "slide"
    }
   },
   "source": [
    "### Let's start with something simple"
   ]
  },
  {
   "cell_type": "markdown",
   "metadata": {
    "slideshow": {
     "slide_type": "fragment"
    }
   },
   "source": [
    "Combining several playlists into a single music library with the following information:\n",
    "- Album\n",
    "- Artist\n",
    "- Duration\n",
    "- Genre"
   ]
  },
  {
   "cell_type": "markdown",
   "metadata": {},
   "source": [
    "### Step 1: Import pandas and playlist for cleanup"
   ]
  },
  {
   "cell_type": "code",
   "execution_count": 1,
   "metadata": {},
   "outputs": [],
   "source": [
    "import pandas as pd\n",
    "xlsx = pd.ExcelFile(\"P4GC_SQLite3_Test.xlsx\")\n",
    "df_gritty = pd.read_excel(xlsx, \"Gritty Playlist\")\n",
    "df_mix = pd.read_excel(xlsx, \"Mix Tape Playlist\")\n",
    "df_alt = pd.read_excel(xlsx, \"Alt Playlist\")\n",
    "df_rainy = pd.read_excel(xlsx, \"Rainy Day Playlist\")"
   ]
  },
  {
   "cell_type": "markdown",
   "metadata": {},
   "source": [
    "### Step 2: Data clean up magic\n"
   ]
  },
  {
   "cell_type": "markdown",
   "metadata": {
    "slideshow": {
     "slide_type": "slide"
    }
   },
   "source": [
    "### Step 1: Install SQLite and sqlite3 and create your database\n",
    "\n",
    "1. Install sqlite and GUI interface for the database by downloading this app: http://sqlitebrowser.org/\n",
    "\n",
    "1. Install sqlite3 package to manage sqlite databases with python by executing `! pip install sqlite3`\n",
    "\n",
    "1. Create your database file by executing `! touch DataDay.db`"
   ]
  },
  {
   "cell_type": "code",
   "execution_count": 2,
   "metadata": {
    "slideshow": {
     "slide_type": "fragment"
    }
   },
   "outputs": [],
   "source": [
    "! touch DataDay.db"
   ]
  },
  {
   "cell_type": "markdown",
   "metadata": {
    "slideshow": {
     "slide_type": "slide"
    }
   },
   "source": [
    "### Step 2: Import the library and connect to your database"
   ]
  },
  {
   "cell_type": "code",
   "execution_count": 3,
   "metadata": {
    "slideshow": {
     "slide_type": "fragment"
    }
   },
   "outputs": [],
   "source": [
    "import sqlite3\n",
    "conn = sqlite3.connect(\"DataDay.db\")\n",
    "c = conn.cursor()"
   ]
  },
  {
   "cell_type": "code",
   "execution_count": null,
   "metadata": {},
   "outputs": [],
   "source": [
    "Step 3: "
   ]
  }
 ],
 "metadata": {
  "celltoolbar": "Slideshow",
  "kernelspec": {
   "display_name": "Python 3",
   "language": "python",
   "name": "python3"
  },
  "language_info": {
   "codemirror_mode": {
    "name": "ipython",
    "version": 3
   },
   "file_extension": ".py",
   "mimetype": "text/x-python",
   "name": "python",
   "nbconvert_exporter": "python",
   "pygments_lexer": "ipython3",
   "version": "3.6.5"
  }
 },
 "nbformat": 4,
 "nbformat_minor": 2
}
