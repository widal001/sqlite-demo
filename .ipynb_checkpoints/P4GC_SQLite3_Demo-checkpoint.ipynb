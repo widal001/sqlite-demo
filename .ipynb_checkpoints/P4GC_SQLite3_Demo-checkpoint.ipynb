{
 "cells": [
  {
   "cell_type": "markdown",
   "metadata": {
    "slideshow": {
     "slide_type": "slide"
    }
   },
   "source": [
    "# Why Use Databases?"
   ]
  },
  {
   "cell_type": "markdown",
   "metadata": {
    "slideshow": {
     "slide_type": "slide"
    }
   },
   "source": [
    "### How to think about databases"
   ]
  },
  {
   "cell_type": "markdown",
   "metadata": {
    "slideshow": {
     "slide_type": "fragment"
    }
   },
   "source": [
    "#### Dataframes joined by keys\n",
    "The simplest way to think about a database is a series of dataframes in which a special \"key\" column in one dataframe references a specific row in another dataframe."
   ]
  },
  {
   "cell_type": "markdown",
   "metadata": {
    "slideshow": {
     "slide_type": "slide"
    }
   },
   "source": [
    "#### Example\n",
    "A set of dataframes that store:\n",
    "- Songs\n",
    "- Albums\n",
    "- Playlists\n",
    "- Artists\n",
    "- Genres"
   ]
  },
  {
   "cell_type": "markdown",
   "metadata": {
    "slideshow": {
     "slide_type": "slide"
    }
   },
   "source": [
    "### What are the advantages of a database?"
   ]
  },
  {
   "cell_type": "markdown",
   "metadata": {
    "slideshow": {
     "slide_type": "fragment"
    }
   },
   "source": [
    "#### Advantages\n",
    "- Allows you to store information in more than 2 dimensions\n",
    "- Reduces duplication of values\n",
    "- Represents complex relationships easily\n",
    "- Enables targeted retrieval of information"
   ]
  },
  {
   "cell_type": "markdown",
   "metadata": {
    "slideshow": {
     "slide_type": "slide"
    }
   },
   "source": [
    "#### When to use a database\n",
    "- Aggregating data from several different sources\n",
    "- Sharing datasets that require a lot of cleaning to analyze\n",
    "- Conducting an analysis that requires a _ton_ of \"groupby\" statements"
   ]
  },
  {
   "cell_type": "markdown",
   "metadata": {
    "slideshow": {
     "slide_type": "slide"
    }
   },
   "source": [
    "# Creating Your Data Model"
   ]
  },
  {
   "cell_type": "markdown",
   "metadata": {
    "slideshow": {
     "slide_type": "slide"
    }
   },
   "source": [
    "### Understanding the key terms and concepts"
   ]
  },
  {
   "cell_type": "markdown",
   "metadata": {
    "slideshow": {
     "slide_type": "fragment"
    }
   },
   "source": [
    "#### ERD\n",
    "An **Entity Relationship Diagram** outlines the basic structure of your database by modeling the groups or **entitities** of data you will store and how those groups will be **related** to one another"
   ]
  },
  {
   "cell_type": "markdown",
   "metadata": {
    "slideshow": {
     "slide_type": "slide"
    }
   },
   "source": [
    "#### Entities\n",
    "An abstraction of a dataframe or table in which an instance of an *instance* of an entity corresponds to a row in a dataframe"
   ]
  },
  {
   "cell_type": "markdown",
   "metadata": {
    "slideshow": {
     "slide_type": "slide"
    }
   },
   "source": [
    "#### One-to-Many Relationship\n",
    "A relationship between entities (dataframes) in which an instance of one entity (row of one dataframe) is related to many instances of another entity (rows of another dataframe). For example: One album *has many* related songs."
   ]
  },
  {
   "cell_type": "markdown",
   "metadata": {
    "slideshow": {
     "slide_type": "slide"
    }
   },
   "source": [
    "#### Many-to-Many Relationship\n",
    "A relationship between entities (dataframes) in which many instances of one entity (rows of one dataframe) can be related to many instances of another entity (rows of another dataframe). For example: One genre *has many* related songs, and one song *can have many* related genres."
   ]
  },
  {
   "cell_type": "markdown",
   "metadata": {
    "slideshow": {
     "slide_type": "slide"
    }
   },
   "source": [
    "#### Diagram Keys\n",
    "![Keys](P4GCKey.png)"
   ]
  },
  {
   "cell_type": "markdown",
   "metadata": {
    "slideshow": {
     "slide_type": "slide"
    }
   },
   "source": [
    "### Step 1: Identify the core logical entities\n",
    "\n",
    "![Keys](P4GC_Step1.png)"
   ]
  },
  {
   "cell_type": "markdown",
   "metadata": {
    "slideshow": {
     "slide_type": "slide"
    }
   },
   "source": [
    "### Step 2: Define the relationships between entities\n",
    "\n",
    "![Keys](P4GC_Step2.png)"
   ]
  },
  {
   "cell_type": "markdown",
   "metadata": {
    "slideshow": {
     "slide_type": "slide"
    }
   },
   "source": [
    "### Step 3: Replace many-to-many relationships with \"join tables\"\n",
    "\n",
    "![Keys](P4GC_Step3.png)"
   ]
  },
  {
   "cell_type": "markdown",
   "metadata": {
    "slideshow": {
     "slide_type": "slide"
    }
   },
   "source": [
    "### Step 4: Translate logical entities into tables\n",
    "\n",
    "![Keys](P4GC_Step4.png)"
   ]
  },
  {
   "cell_type": "markdown",
   "metadata": {
    "slideshow": {
     "slide_type": "slide"
    }
   },
   "source": [
    "# Importing and Cleaning the Data"
   ]
  },
  {
   "cell_type": "markdown",
   "metadata": {
    "slideshow": {
     "slide_type": "slide"
    }
   },
   "source": [
    "### Step 1: Read and combine the playlists into a single dataframe"
   ]
  },
  {
   "cell_type": "code",
   "execution_count": 2,
   "metadata": {
    "slideshow": {
     "slide_type": "fragment"
    }
   },
   "outputs": [],
   "source": [
    "import pandas as pd"
   ]
  },
  {
   "cell_type": "code",
   "execution_count": 3,
   "metadata": {
    "slideshow": {
     "slide_type": "fragment"
    }
   },
   "outputs": [],
   "source": [
    "#read entire excel file to avoid multiple reads\n",
    "xlsx = pd.ExcelFile(\"P4GC_SQLite3_Test.xlsx\")"
   ]
  },
  {
   "cell_type": "code",
   "execution_count": 4,
   "metadata": {
    "slideshow": {
     "slide_type": "slide"
    }
   },
   "outputs": [],
   "source": [
    "#read each sheet to a different dataframe\n",
    "df_gritty = pd.read_excel(xlsx, \"Gritty Playlist\")\n",
    "df_mix = pd.read_excel(xlsx, \"Mix Tape Playlist\")\n",
    "df_alt = pd.read_excel(xlsx, \"Alt Playlist\")\n",
    "df_rainy = pd.read_excel(xlsx, \"Rainy Day Playlist\")"
   ]
  },
  {
   "cell_type": "code",
   "execution_count": 5,
   "metadata": {
    "slideshow": {
     "slide_type": "slide"
    }
   },
   "outputs": [],
   "source": [
    "#add corresponding playlist name to new playlist column\n",
    "df_gritty[\"Playlist\"] = \"Gritty\"\n",
    "df_mix[\"Playlist\"] = \"Mix Tape\"\n",
    "df_alt[\"Playlist\"] = \"Alt\"\n",
    "df_rainy[\"Playlist\"] = \"Rainy Day\""
   ]
  },
  {
   "cell_type": "code",
   "execution_count": 6,
   "metadata": {
    "slideshow": {
     "slide_type": "fragment"
    }
   },
   "outputs": [],
   "source": [
    "#combine playlists and reset the index\n",
    "df_all = pd.concat([df_gritty, df_mix, df_alt, df_rainy], ignore_index=True)"
   ]
  },
  {
   "cell_type": "code",
   "execution_count": 7,
   "metadata": {
    "slideshow": {
     "slide_type": "slide"
    }
   },
   "outputs": [],
   "source": [
    "#convert the duration timestamp to a duration delta\n",
    "df_all[\"Duration_Delta\"] = df_all[\"Duration\"].apply(lambda x: pd.Timedelta(days=0,\n",
    "                                                                           minutes=x.minute,\n",
    "                                                                           seconds=x.second))\n",
    "\n",
    "#extract the total duration in seconds from the duration delta\n",
    "df_all[\"Duration_Seconds\"] = df_all[\"Duration_Delta\"].dt.seconds"
   ]
  },
  {
   "cell_type": "code",
   "execution_count": 8,
   "metadata": {
    "slideshow": {
     "slide_type": "slide"
    }
   },
   "outputs": [
    {
     "data": {
      "text/html": [
       "<div>\n",
       "<style>\n",
       "    .dataframe thead tr:only-child th {\n",
       "        text-align: right;\n",
       "    }\n",
       "\n",
       "    .dataframe thead th {\n",
       "        text-align: left;\n",
       "    }\n",
       "\n",
       "    .dataframe tbody tr th {\n",
       "        vertical-align: top;\n",
       "    }\n",
       "</style>\n",
       "<table border=\"1\" class=\"dataframe\">\n",
       "  <thead>\n",
       "    <tr style=\"text-align: right;\">\n",
       "      <th></th>\n",
       "      <th>Song</th>\n",
       "      <th>Artist</th>\n",
       "      <th>Album</th>\n",
       "      <th>Duration</th>\n",
       "      <th>Genre</th>\n",
       "      <th>Playlist</th>\n",
       "      <th>Duration_Delta</th>\n",
       "      <th>Duration_Seconds</th>\n",
       "    </tr>\n",
       "  </thead>\n",
       "  <tbody>\n",
       "    <tr>\n",
       "      <th>0</th>\n",
       "      <td>S.O.B.</td>\n",
       "      <td>Nathaniel Rateliff &amp; The Night Sweats</td>\n",
       "      <td>Nathaniel Rateliff &amp; The Night Sweats</td>\n",
       "      <td>00:04:08</td>\n",
       "      <td>Rock;Soul;Blues</td>\n",
       "      <td>Gritty</td>\n",
       "      <td>00:04:08</td>\n",
       "      <td>248</td>\n",
       "    </tr>\n",
       "    <tr>\n",
       "      <th>1</th>\n",
       "      <td>Lengths</td>\n",
       "      <td>The Black Keys</td>\n",
       "      <td>Rubber Factory</td>\n",
       "      <td>00:04:52</td>\n",
       "      <td>Blues;Rock;Folk</td>\n",
       "      <td>Gritty</td>\n",
       "      <td>00:04:52</td>\n",
       "      <td>292</td>\n",
       "    </tr>\n",
       "    <tr>\n",
       "      <th>2</th>\n",
       "      <td>Don't Wanna Fight</td>\n",
       "      <td>Alabama Shakes</td>\n",
       "      <td>Sound &amp; Color</td>\n",
       "      <td>00:03:53</td>\n",
       "      <td>Blues;Soul;Rock</td>\n",
       "      <td>Gritty</td>\n",
       "      <td>00:03:53</td>\n",
       "      <td>233</td>\n",
       "    </tr>\n",
       "    <tr>\n",
       "      <th>3</th>\n",
       "      <td>Howlin' For You</td>\n",
       "      <td>The Black Keys</td>\n",
       "      <td>Brothers</td>\n",
       "      <td>00:03:12</td>\n",
       "      <td>Blues;Rock</td>\n",
       "      <td>Gritty</td>\n",
       "      <td>00:03:12</td>\n",
       "      <td>192</td>\n",
       "    </tr>\n",
       "    <tr>\n",
       "      <th>4</th>\n",
       "      <td>Twenty Miles</td>\n",
       "      <td>Deer Tick</td>\n",
       "      <td>The Black Dirt Sessions</td>\n",
       "      <td>00:03:44</td>\n",
       "      <td>Blues;Rock;Folk</td>\n",
       "      <td>Gritty</td>\n",
       "      <td>00:03:44</td>\n",
       "      <td>224</td>\n",
       "    </tr>\n",
       "  </tbody>\n",
       "</table>\n",
       "</div>"
      ],
      "text/plain": [
       "                Song                                 Artist  \\\n",
       "0             S.O.B.  Nathaniel Rateliff & The Night Sweats   \n",
       "1            Lengths                         The Black Keys   \n",
       "2  Don't Wanna Fight                         Alabama Shakes   \n",
       "3    Howlin' For You                         The Black Keys   \n",
       "4       Twenty Miles                              Deer Tick   \n",
       "\n",
       "                                   Album  Duration            Genre Playlist  \\\n",
       "0  Nathaniel Rateliff & The Night Sweats  00:04:08  Rock;Soul;Blues   Gritty   \n",
       "1                         Rubber Factory  00:04:52  Blues;Rock;Folk   Gritty   \n",
       "2                          Sound & Color  00:03:53  Blues;Soul;Rock   Gritty   \n",
       "3                               Brothers  00:03:12       Blues;Rock   Gritty   \n",
       "4                The Black Dirt Sessions  00:03:44  Blues;Rock;Folk   Gritty   \n",
       "\n",
       "  Duration_Delta  Duration_Seconds  \n",
       "0       00:04:08               248  \n",
       "1       00:04:52               292  \n",
       "2       00:03:53               233  \n",
       "3       00:03:12               192  \n",
       "4       00:03:44               224  "
      ]
     },
     "execution_count": 8,
     "metadata": {},
     "output_type": "execute_result"
    }
   ],
   "source": [
    "df_all.head()"
   ]
  },
  {
   "cell_type": "markdown",
   "metadata": {
    "slideshow": {
     "slide_type": "slide"
    }
   },
   "source": [
    "### Step 2: Create separate dataframes to itemize the genres and artists for each song"
   ]
  },
  {
   "cell_type": "code",
   "execution_count": 9,
   "metadata": {
    "slideshow": {
     "slide_type": "fragment"
    }
   },
   "outputs": [],
   "source": [
    "#split artist and genre columns on \";\" to itemize individual artists and genres later\n",
    "df_all[\"Artist\"] = df_all[\"Artist\"].str.split(\";\")\n",
    "df_all[\"Genre\"] = df_all[\"Genre\"].str.split(\";\")"
   ]
  },
  {
   "cell_type": "markdown",
   "metadata": {
    "slideshow": {
     "slide_type": "slide"
    }
   },
   "source": [
    "#### Itemizing Artists"
   ]
  },
  {
   "cell_type": "code",
   "execution_count": 18,
   "metadata": {
    "slideshow": {
     "slide_type": "fragment"
    }
   },
   "outputs": [],
   "source": [
    "#export the records to a list of dicts\n",
    "records_raw = df_all.to_dict(\"records\")\n",
    "\n",
    "#inserts a record for each artist on a song\n",
    "artist_records = [{\"Artist\": y, \n",
    "                   \"Album\": x[\"Album\"],\n",
    "                   \"Song\": x[\"Song\"], \n",
    "                   \"Playlist\": x[\"Playlist\"],\n",
    "                   \"Duration_Delta\": x[\"Duration_Delta\"],\n",
    "                   \"Duration_Seconds\": x[\"Duration_Seconds\"]}\n",
    "                  for x in records_raw for y in x[\"Artist\"]]"
   ]
  },
  {
   "cell_type": "code",
   "execution_count": 19,
   "metadata": {
    "slideshow": {
     "slide_type": "fragment"
    }
   },
   "outputs": [
    {
     "data": {
      "text/html": [
       "<div>\n",
       "<style>\n",
       "    .dataframe thead tr:only-child th {\n",
       "        text-align: right;\n",
       "    }\n",
       "\n",
       "    .dataframe thead th {\n",
       "        text-align: left;\n",
       "    }\n",
       "\n",
       "    .dataframe tbody tr th {\n",
       "        vertical-align: top;\n",
       "    }\n",
       "</style>\n",
       "<table border=\"1\" class=\"dataframe\">\n",
       "  <thead>\n",
       "    <tr style=\"text-align: right;\">\n",
       "      <th></th>\n",
       "      <th>Album</th>\n",
       "      <th>Artist</th>\n",
       "      <th>Duration_Delta</th>\n",
       "      <th>Duration_Seconds</th>\n",
       "      <th>Playlist</th>\n",
       "      <th>Song</th>\n",
       "    </tr>\n",
       "  </thead>\n",
       "  <tbody>\n",
       "    <tr>\n",
       "      <th>0</th>\n",
       "      <td>Nathaniel Rateliff &amp; The Night Sweats</td>\n",
       "      <td>Nathaniel Rateliff &amp; The Night Sweats</td>\n",
       "      <td>00:04:08</td>\n",
       "      <td>248</td>\n",
       "      <td>Gritty</td>\n",
       "      <td>S.O.B.</td>\n",
       "    </tr>\n",
       "    <tr>\n",
       "      <th>1</th>\n",
       "      <td>Rubber Factory</td>\n",
       "      <td>The Black Keys</td>\n",
       "      <td>00:04:52</td>\n",
       "      <td>292</td>\n",
       "      <td>Gritty</td>\n",
       "      <td>Lengths</td>\n",
       "    </tr>\n",
       "    <tr>\n",
       "      <th>2</th>\n",
       "      <td>Sound &amp; Color</td>\n",
       "      <td>Alabama Shakes</td>\n",
       "      <td>00:03:53</td>\n",
       "      <td>233</td>\n",
       "      <td>Gritty</td>\n",
       "      <td>Don't Wanna Fight</td>\n",
       "    </tr>\n",
       "    <tr>\n",
       "      <th>3</th>\n",
       "      <td>Brothers</td>\n",
       "      <td>The Black Keys</td>\n",
       "      <td>00:03:12</td>\n",
       "      <td>192</td>\n",
       "      <td>Gritty</td>\n",
       "      <td>Howlin' For You</td>\n",
       "    </tr>\n",
       "    <tr>\n",
       "      <th>4</th>\n",
       "      <td>The Black Dirt Sessions</td>\n",
       "      <td>Deer Tick</td>\n",
       "      <td>00:03:44</td>\n",
       "      <td>224</td>\n",
       "      <td>Gritty</td>\n",
       "      <td>Twenty Miles</td>\n",
       "    </tr>\n",
       "  </tbody>\n",
       "</table>\n",
       "</div>"
      ],
      "text/plain": [
       "                                   Album  \\\n",
       "0  Nathaniel Rateliff & The Night Sweats   \n",
       "1                         Rubber Factory   \n",
       "2                          Sound & Color   \n",
       "3                               Brothers   \n",
       "4                The Black Dirt Sessions   \n",
       "\n",
       "                                  Artist Duration_Delta  Duration_Seconds  \\\n",
       "0  Nathaniel Rateliff & The Night Sweats       00:04:08               248   \n",
       "1                         The Black Keys       00:04:52               292   \n",
       "2                         Alabama Shakes       00:03:53               233   \n",
       "3                         The Black Keys       00:03:12               192   \n",
       "4                              Deer Tick       00:03:44               224   \n",
       "\n",
       "  Playlist               Song  \n",
       "0   Gritty             S.O.B.  \n",
       "1   Gritty            Lengths  \n",
       "2   Gritty  Don't Wanna Fight  \n",
       "3   Gritty    Howlin' For You  \n",
       "4   Gritty       Twenty Miles  "
      ]
     },
     "execution_count": 19,
     "metadata": {},
     "output_type": "execute_result"
    }
   ],
   "source": [
    "#converts the list of records back into dataframes for further manipulation\n",
    "df_artist_raw = pd.DataFrame(artist_records)\n",
    "\n",
    "df_artist_raw.head()"
   ]
  },
  {
   "cell_type": "markdown",
   "metadata": {
    "slideshow": {
     "slide_type": "slide"
    }
   },
   "source": [
    "#### Itemizing Genres"
   ]
  },
  {
   "cell_type": "code",
   "execution_count": 20,
   "metadata": {
    "slideshow": {
     "slide_type": "fragment"
    }
   },
   "outputs": [
    {
     "data": {
      "text/html": [
       "<div>\n",
       "<style>\n",
       "    .dataframe thead tr:only-child th {\n",
       "        text-align: right;\n",
       "    }\n",
       "\n",
       "    .dataframe thead th {\n",
       "        text-align: left;\n",
       "    }\n",
       "\n",
       "    .dataframe tbody tr th {\n",
       "        vertical-align: top;\n",
       "    }\n",
       "</style>\n",
       "<table border=\"1\" class=\"dataframe\">\n",
       "  <thead>\n",
       "    <tr style=\"text-align: right;\">\n",
       "      <th></th>\n",
       "      <th>Album</th>\n",
       "      <th>Duration_Delta</th>\n",
       "      <th>Duration_Seconds</th>\n",
       "      <th>Genre</th>\n",
       "      <th>Playlist</th>\n",
       "      <th>Song</th>\n",
       "    </tr>\n",
       "  </thead>\n",
       "  <tbody>\n",
       "    <tr>\n",
       "      <th>0</th>\n",
       "      <td>Nathaniel Rateliff &amp; The Night Sweats</td>\n",
       "      <td>00:04:08</td>\n",
       "      <td>248</td>\n",
       "      <td>Rock</td>\n",
       "      <td>Gritty</td>\n",
       "      <td>S.O.B.</td>\n",
       "    </tr>\n",
       "    <tr>\n",
       "      <th>1</th>\n",
       "      <td>Nathaniel Rateliff &amp; The Night Sweats</td>\n",
       "      <td>00:04:08</td>\n",
       "      <td>248</td>\n",
       "      <td>Soul</td>\n",
       "      <td>Gritty</td>\n",
       "      <td>S.O.B.</td>\n",
       "    </tr>\n",
       "    <tr>\n",
       "      <th>2</th>\n",
       "      <td>Nathaniel Rateliff &amp; The Night Sweats</td>\n",
       "      <td>00:04:08</td>\n",
       "      <td>248</td>\n",
       "      <td>Blues</td>\n",
       "      <td>Gritty</td>\n",
       "      <td>S.O.B.</td>\n",
       "    </tr>\n",
       "    <tr>\n",
       "      <th>3</th>\n",
       "      <td>Rubber Factory</td>\n",
       "      <td>00:04:52</td>\n",
       "      <td>292</td>\n",
       "      <td>Blues</td>\n",
       "      <td>Gritty</td>\n",
       "      <td>Lengths</td>\n",
       "    </tr>\n",
       "    <tr>\n",
       "      <th>4</th>\n",
       "      <td>Rubber Factory</td>\n",
       "      <td>00:04:52</td>\n",
       "      <td>292</td>\n",
       "      <td>Rock</td>\n",
       "      <td>Gritty</td>\n",
       "      <td>Lengths</td>\n",
       "    </tr>\n",
       "  </tbody>\n",
       "</table>\n",
       "</div>"
      ],
      "text/plain": [
       "                                   Album Duration_Delta  Duration_Seconds  \\\n",
       "0  Nathaniel Rateliff & The Night Sweats       00:04:08               248   \n",
       "1  Nathaniel Rateliff & The Night Sweats       00:04:08               248   \n",
       "2  Nathaniel Rateliff & The Night Sweats       00:04:08               248   \n",
       "3                         Rubber Factory       00:04:52               292   \n",
       "4                         Rubber Factory       00:04:52               292   \n",
       "\n",
       "   Genre Playlist     Song  \n",
       "0   Rock   Gritty   S.O.B.  \n",
       "1   Soul   Gritty   S.O.B.  \n",
       "2  Blues   Gritty   S.O.B.  \n",
       "3  Blues   Gritty  Lengths  \n",
       "4   Rock   Gritty  Lengths  "
      ]
     },
     "execution_count": 20,
     "metadata": {},
     "output_type": "execute_result"
    }
   ],
   "source": [
    "#inserts a record for each genre on a song\n",
    "genre_records = [{\"Genre\": y, \n",
    "                  \"Album\": x[\"Album\"],\n",
    "                  \"Song\": x[\"Song\"], \n",
    "                  \"Playlist\": x[\"Playlist\"],\n",
    "                  \"Duration_Delta\": x[\"Duration_Delta\"],\n",
    "                  \"Duration_Seconds\": x[\"Duration_Seconds\"]}\n",
    "                 for x in records for y in x[\"Genre\"]]\n",
    "\n",
    "#converts the list of records back into dataframes for further manipulation\n",
    "df_genre_raw = pd.DataFrame(genre_records)\n",
    "\n",
    "df_genre_raw.head()"
   ]
  },
  {
   "cell_type": "markdown",
   "metadata": {
    "slideshow": {
     "slide_type": "slide"
    }
   },
   "source": [
    "### Step 3: Isolate the unique values for non-junction tables"
   ]
  },
  {
   "cell_type": "markdown",
   "metadata": {
    "slideshow": {
     "slide_type": "fragment"
    }
   },
   "source": [
    "#### Albums"
   ]
  },
  {
   "cell_type": "code",
   "execution_count": 21,
   "metadata": {
    "slideshow": {
     "slide_type": "fragment"
    }
   },
   "outputs": [
    {
     "data": {
      "text/html": [
       "<div>\n",
       "<style>\n",
       "    .dataframe thead tr:only-child th {\n",
       "        text-align: right;\n",
       "    }\n",
       "\n",
       "    .dataframe thead th {\n",
       "        text-align: left;\n",
       "    }\n",
       "\n",
       "    .dataframe tbody tr th {\n",
       "        vertical-align: top;\n",
       "    }\n",
       "</style>\n",
       "<table border=\"1\" class=\"dataframe\">\n",
       "  <thead>\n",
       "    <tr style=\"text-align: right;\">\n",
       "      <th></th>\n",
       "      <th>Album</th>\n",
       "      <th>Song</th>\n",
       "      <th>Duration_Seconds</th>\n",
       "      <th>Duration_Delta</th>\n",
       "    </tr>\n",
       "  </thead>\n",
       "  <tbody>\n",
       "    <tr>\n",
       "      <th>0</th>\n",
       "      <td>Ambivalence Avenue</td>\n",
       "      <td>2</td>\n",
       "      <td>458</td>\n",
       "      <td>00:07:38</td>\n",
       "    </tr>\n",
       "    <tr>\n",
       "      <th>1</th>\n",
       "      <td>Autumn Fallin'</td>\n",
       "      <td>1</td>\n",
       "      <td>205</td>\n",
       "      <td>00:03:25</td>\n",
       "    </tr>\n",
       "    <tr>\n",
       "      <th>2</th>\n",
       "      <td>Ben Kweller</td>\n",
       "      <td>3</td>\n",
       "      <td>760</td>\n",
       "      <td>00:12:40</td>\n",
       "    </tr>\n",
       "    <tr>\n",
       "      <th>3</th>\n",
       "      <td>Boom Forest</td>\n",
       "      <td>1</td>\n",
       "      <td>265</td>\n",
       "      <td>00:04:25</td>\n",
       "    </tr>\n",
       "    <tr>\n",
       "      <th>4</th>\n",
       "      <td>Boys &amp; Girls</td>\n",
       "      <td>1</td>\n",
       "      <td>226</td>\n",
       "      <td>00:03:46</td>\n",
       "    </tr>\n",
       "  </tbody>\n",
       "</table>\n",
       "</div>"
      ],
      "text/plain": [
       "                Album  Song  Duration_Seconds Duration_Delta\n",
       "0  Ambivalence Avenue     2               458       00:07:38\n",
       "1      Autumn Fallin'     1               205       00:03:25\n",
       "2         Ben Kweller     3               760       00:12:40\n",
       "3         Boom Forest     1               265       00:04:25\n",
       "4        Boys & Girls     1               226       00:03:46"
      ]
     },
     "execution_count": 21,
     "metadata": {},
     "output_type": "execute_result"
    }
   ],
   "source": [
    "#pulls unique album names and aggregates song count and duration\n",
    "df_album = (df_all.groupby(\"Album\", as_index=False)\n",
    "                  .agg({\"Song\": \"count\",\n",
    "                        \"Duration_Seconds\": \"sum\",\n",
    "                        \"Duration_Delta\": \"sum\"}))\n",
    "df_album.head()"
   ]
  },
  {
   "cell_type": "markdown",
   "metadata": {
    "slideshow": {
     "slide_type": "slide"
    }
   },
   "source": [
    "#### Songs"
   ]
  },
  {
   "cell_type": "code",
   "execution_count": 22,
   "metadata": {
    "slideshow": {
     "slide_type": "fragment"
    }
   },
   "outputs": [
    {
     "data": {
      "text/html": [
       "<div>\n",
       "<style>\n",
       "    .dataframe thead tr:only-child th {\n",
       "        text-align: right;\n",
       "    }\n",
       "\n",
       "    .dataframe thead th {\n",
       "        text-align: left;\n",
       "    }\n",
       "\n",
       "    .dataframe tbody tr th {\n",
       "        vertical-align: top;\n",
       "    }\n",
       "</style>\n",
       "<table border=\"1\" class=\"dataframe\">\n",
       "  <thead>\n",
       "    <tr style=\"text-align: right;\">\n",
       "      <th></th>\n",
       "      <th>Song</th>\n",
       "      <th>Artist</th>\n",
       "      <th>Album</th>\n",
       "      <th>Duration</th>\n",
       "      <th>Genre</th>\n",
       "      <th>Playlist</th>\n",
       "      <th>Duration_Delta</th>\n",
       "      <th>Duration_Seconds</th>\n",
       "    </tr>\n",
       "  </thead>\n",
       "  <tbody>\n",
       "    <tr>\n",
       "      <th>0</th>\n",
       "      <td>S.O.B.</td>\n",
       "      <td>[Nathaniel Rateliff &amp; The Night Sweats]</td>\n",
       "      <td>Nathaniel Rateliff &amp; The Night Sweats</td>\n",
       "      <td>00:04:08</td>\n",
       "      <td>[Rock, Soul, Blues]</td>\n",
       "      <td>Gritty</td>\n",
       "      <td>00:04:08</td>\n",
       "      <td>248</td>\n",
       "    </tr>\n",
       "    <tr>\n",
       "      <th>1</th>\n",
       "      <td>Lengths</td>\n",
       "      <td>[The Black Keys]</td>\n",
       "      <td>Rubber Factory</td>\n",
       "      <td>00:04:52</td>\n",
       "      <td>[Blues, Rock, Folk]</td>\n",
       "      <td>Gritty</td>\n",
       "      <td>00:04:52</td>\n",
       "      <td>292</td>\n",
       "    </tr>\n",
       "    <tr>\n",
       "      <th>2</th>\n",
       "      <td>Don't Wanna Fight</td>\n",
       "      <td>[Alabama Shakes]</td>\n",
       "      <td>Sound &amp; Color</td>\n",
       "      <td>00:03:53</td>\n",
       "      <td>[Blues, Soul, Rock]</td>\n",
       "      <td>Gritty</td>\n",
       "      <td>00:03:53</td>\n",
       "      <td>233</td>\n",
       "    </tr>\n",
       "    <tr>\n",
       "      <th>3</th>\n",
       "      <td>Howlin' For You</td>\n",
       "      <td>[The Black Keys]</td>\n",
       "      <td>Brothers</td>\n",
       "      <td>00:03:12</td>\n",
       "      <td>[Blues, Rock]</td>\n",
       "      <td>Gritty</td>\n",
       "      <td>00:03:12</td>\n",
       "      <td>192</td>\n",
       "    </tr>\n",
       "    <tr>\n",
       "      <th>4</th>\n",
       "      <td>Twenty Miles</td>\n",
       "      <td>[Deer Tick]</td>\n",
       "      <td>The Black Dirt Sessions</td>\n",
       "      <td>00:03:44</td>\n",
       "      <td>[Blues, Rock, Folk]</td>\n",
       "      <td>Gritty</td>\n",
       "      <td>00:03:44</td>\n",
       "      <td>224</td>\n",
       "    </tr>\n",
       "  </tbody>\n",
       "</table>\n",
       "</div>"
      ],
      "text/plain": [
       "                Song                                   Artist  \\\n",
       "0             S.O.B.  [Nathaniel Rateliff & The Night Sweats]   \n",
       "1            Lengths                         [The Black Keys]   \n",
       "2  Don't Wanna Fight                         [Alabama Shakes]   \n",
       "3    Howlin' For You                         [The Black Keys]   \n",
       "4       Twenty Miles                              [Deer Tick]   \n",
       "\n",
       "                                   Album  Duration                Genre  \\\n",
       "0  Nathaniel Rateliff & The Night Sweats  00:04:08  [Rock, Soul, Blues]   \n",
       "1                         Rubber Factory  00:04:52  [Blues, Rock, Folk]   \n",
       "2                          Sound & Color  00:03:53  [Blues, Soul, Rock]   \n",
       "3                               Brothers  00:03:12        [Blues, Rock]   \n",
       "4                The Black Dirt Sessions  00:03:44  [Blues, Rock, Folk]   \n",
       "\n",
       "  Playlist Duration_Delta  Duration_Seconds  \n",
       "0   Gritty       00:04:08               248  \n",
       "1   Gritty       00:04:52               292  \n",
       "2   Gritty       00:03:53               233  \n",
       "3   Gritty       00:03:12               192  \n",
       "4   Gritty       00:03:44               224  "
      ]
     },
     "execution_count": 22,
     "metadata": {},
     "output_type": "execute_result"
    }
   ],
   "source": [
    "#drops songs that appear in multiple playlists\n",
    "df_song = df_all.drop_duplicates([\"Album\",\"Song\"])\n",
    "df_song.head()"
   ]
  },
  {
   "cell_type": "markdown",
   "metadata": {
    "slideshow": {
     "slide_type": "slide"
    }
   },
   "source": [
    "#### Playlists"
   ]
  },
  {
   "cell_type": "code",
   "execution_count": 23,
   "metadata": {
    "slideshow": {
     "slide_type": "fragment"
    }
   },
   "outputs": [
    {
     "data": {
      "text/html": [
       "<div>\n",
       "<style>\n",
       "    .dataframe thead tr:only-child th {\n",
       "        text-align: right;\n",
       "    }\n",
       "\n",
       "    .dataframe thead th {\n",
       "        text-align: left;\n",
       "    }\n",
       "\n",
       "    .dataframe tbody tr th {\n",
       "        vertical-align: top;\n",
       "    }\n",
       "</style>\n",
       "<table border=\"1\" class=\"dataframe\">\n",
       "  <thead>\n",
       "    <tr style=\"text-align: right;\">\n",
       "      <th></th>\n",
       "      <th>Playlist</th>\n",
       "      <th>Song</th>\n",
       "      <th>Duration_Seconds</th>\n",
       "      <th>Duration_Delta</th>\n",
       "    </tr>\n",
       "  </thead>\n",
       "  <tbody>\n",
       "    <tr>\n",
       "      <th>0</th>\n",
       "      <td>Alt</td>\n",
       "      <td>8</td>\n",
       "      <td>1848</td>\n",
       "      <td>00:30:48</td>\n",
       "    </tr>\n",
       "    <tr>\n",
       "      <th>1</th>\n",
       "      <td>Gritty</td>\n",
       "      <td>10</td>\n",
       "      <td>2269</td>\n",
       "      <td>00:37:49</td>\n",
       "    </tr>\n",
       "    <tr>\n",
       "      <th>2</th>\n",
       "      <td>Mix Tape</td>\n",
       "      <td>13</td>\n",
       "      <td>2345</td>\n",
       "      <td>00:39:05</td>\n",
       "    </tr>\n",
       "    <tr>\n",
       "      <th>3</th>\n",
       "      <td>Rainy Day</td>\n",
       "      <td>14</td>\n",
       "      <td>3007</td>\n",
       "      <td>00:50:07</td>\n",
       "    </tr>\n",
       "  </tbody>\n",
       "</table>\n",
       "</div>"
      ],
      "text/plain": [
       "    Playlist  Song  Duration_Seconds Duration_Delta\n",
       "0        Alt     8              1848       00:30:48\n",
       "1     Gritty    10              2269       00:37:49\n",
       "2   Mix Tape    13              2345       00:39:05\n",
       "3  Rainy Day    14              3007       00:50:07"
      ]
     },
     "execution_count": 23,
     "metadata": {},
     "output_type": "execute_result"
    }
   ],
   "source": [
    "#pulls unique album names and aggregates song count and duration \n",
    "df_playlist = (df_all.groupby(\"Playlist\", as_index=False)\n",
    "                     .agg({\"Song\": \"count\",\n",
    "                           \"Duration_Seconds\": \"sum\",\n",
    "                           \"Duration_Delta\": \"sum\"}))\n",
    "df_playlist.head()"
   ]
  },
  {
   "cell_type": "markdown",
   "metadata": {
    "slideshow": {
     "slide_type": "slide"
    }
   },
   "source": [
    "#### Genre"
   ]
  },
  {
   "cell_type": "code",
   "execution_count": 24,
   "metadata": {
    "slideshow": {
     "slide_type": "fragment"
    }
   },
   "outputs": [
    {
     "data": {
      "text/html": [
       "<div>\n",
       "<style>\n",
       "    .dataframe thead tr:only-child th {\n",
       "        text-align: right;\n",
       "    }\n",
       "\n",
       "    .dataframe thead th {\n",
       "        text-align: left;\n",
       "    }\n",
       "\n",
       "    .dataframe tbody tr th {\n",
       "        vertical-align: top;\n",
       "    }\n",
       "</style>\n",
       "<table border=\"1\" class=\"dataframe\">\n",
       "  <thead>\n",
       "    <tr style=\"text-align: right;\">\n",
       "      <th></th>\n",
       "      <th>Genre</th>\n",
       "      <th>Song</th>\n",
       "      <th>Duration_Seconds</th>\n",
       "      <th>Duration_Delta</th>\n",
       "    </tr>\n",
       "  </thead>\n",
       "  <tbody>\n",
       "    <tr>\n",
       "      <th>0</th>\n",
       "      <td>Alt</td>\n",
       "      <td>12</td>\n",
       "      <td>2349</td>\n",
       "      <td>00:39:09</td>\n",
       "    </tr>\n",
       "    <tr>\n",
       "      <th>1</th>\n",
       "      <td>Blues</td>\n",
       "      <td>5</td>\n",
       "      <td>1253</td>\n",
       "      <td>00:20:53</td>\n",
       "    </tr>\n",
       "    <tr>\n",
       "      <th>2</th>\n",
       "      <td>Country</td>\n",
       "      <td>1</td>\n",
       "      <td>171</td>\n",
       "      <td>00:02:51</td>\n",
       "    </tr>\n",
       "    <tr>\n",
       "      <th>3</th>\n",
       "      <td>Folk</td>\n",
       "      <td>16</td>\n",
       "      <td>3240</td>\n",
       "      <td>00:54:00</td>\n",
       "    </tr>\n",
       "    <tr>\n",
       "      <th>4</th>\n",
       "      <td>Pop</td>\n",
       "      <td>1</td>\n",
       "      <td>229</td>\n",
       "      <td>00:03:49</td>\n",
       "    </tr>\n",
       "  </tbody>\n",
       "</table>\n",
       "</div>"
      ],
      "text/plain": [
       "     Genre  Song  Duration_Seconds Duration_Delta\n",
       "0      Alt    12              2349       00:39:09\n",
       "1    Blues     5              1253       00:20:53\n",
       "2  Country     1               171       00:02:51\n",
       "3     Folk    16              3240       00:54:00\n",
       "4      Pop     1               229       00:03:49"
      ]
     },
     "execution_count": 24,
     "metadata": {},
     "output_type": "execute_result"
    }
   ],
   "source": [
    "#pulls unique genres and aggregates song count and duration\n",
    "df_genre = (df_genre_raw.drop_duplicates([\"Album\",\"Song\"])\n",
    "                        .groupby(\"Genre\", as_index=False)\n",
    "                        .agg({\"Song\": \"count\",\n",
    "                              \"Duration_Seconds\": \"sum\",\n",
    "                              \"Duration_Delta\": \"sum\"}))\n",
    "df_genre.head()"
   ]
  },
  {
   "cell_type": "markdown",
   "metadata": {
    "slideshow": {
     "slide_type": "slide"
    }
   },
   "source": [
    "#### Artists"
   ]
  },
  {
   "cell_type": "code",
   "execution_count": 25,
   "metadata": {
    "slideshow": {
     "slide_type": "fragment"
    }
   },
   "outputs": [
    {
     "data": {
      "text/html": [
       "<div>\n",
       "<style>\n",
       "    .dataframe thead tr:only-child th {\n",
       "        text-align: right;\n",
       "    }\n",
       "\n",
       "    .dataframe thead th {\n",
       "        text-align: left;\n",
       "    }\n",
       "\n",
       "    .dataframe tbody tr th {\n",
       "        vertical-align: top;\n",
       "    }\n",
       "</style>\n",
       "<table border=\"1\" class=\"dataframe\">\n",
       "  <thead>\n",
       "    <tr style=\"text-align: right;\">\n",
       "      <th></th>\n",
       "      <th>Artist</th>\n",
       "      <th>Song</th>\n",
       "      <th>Duration_Seconds</th>\n",
       "      <th>Duration_Delta</th>\n",
       "    </tr>\n",
       "  </thead>\n",
       "  <tbody>\n",
       "    <tr>\n",
       "      <th>0</th>\n",
       "      <td>Ben Birdwell</td>\n",
       "      <td>1</td>\n",
       "      <td>212</td>\n",
       "      <td>00:03:32</td>\n",
       "    </tr>\n",
       "    <tr>\n",
       "      <th>1</th>\n",
       "      <td>Benjamin Gibbard</td>\n",
       "      <td>1</td>\n",
       "      <td>182</td>\n",
       "      <td>00:03:02</td>\n",
       "    </tr>\n",
       "    <tr>\n",
       "      <th>2</th>\n",
       "      <td>Jared Engel</td>\n",
       "      <td>1</td>\n",
       "      <td>205</td>\n",
       "      <td>00:03:25</td>\n",
       "    </tr>\n",
       "    <tr>\n",
       "      <th>3</th>\n",
       "      <td>Jessica Lea Mayfield</td>\n",
       "      <td>2</td>\n",
       "      <td>374</td>\n",
       "      <td>00:06:14</td>\n",
       "    </tr>\n",
       "    <tr>\n",
       "      <th>4</th>\n",
       "      <td>Phox</td>\n",
       "      <td>1</td>\n",
       "      <td>265</td>\n",
       "      <td>00:04:25</td>\n",
       "    </tr>\n",
       "  </tbody>\n",
       "</table>\n",
       "</div>"
      ],
      "text/plain": [
       "                  Artist  Song  Duration_Seconds Duration_Delta\n",
       "0           Ben Birdwell     1               212       00:03:32\n",
       "1       Benjamin Gibbard     1               182       00:03:02\n",
       "2            Jared Engel     1               205       00:03:25\n",
       "3   Jessica Lea Mayfield     2               374       00:06:14\n",
       "4                   Phox     1               265       00:04:25"
      ]
     },
     "execution_count": 25,
     "metadata": {},
     "output_type": "execute_result"
    }
   ],
   "source": [
    "#pulls unique genres and aggregates song count and duration\n",
    "df_artist = (df_artist_raw.drop_duplicates([\"Artist\",\"Song\"])\n",
    "                          .groupby(\"Artist\", as_index=False)\n",
    "                          .agg({\"Song\": \"count\",\n",
    "                                \"Duration_Seconds\": \"sum\",\n",
    "                                \"Duration_Delta\": \"sum\"}))\n",
    "df_artist.head()"
   ]
  },
  {
   "cell_type": "markdown",
   "metadata": {
    "slideshow": {
     "slide_type": "slide"
    }
   },
   "source": [
    "# Using SQLite3"
   ]
  },
  {
   "cell_type": "markdown",
   "metadata": {
    "slideshow": {
     "slide_type": "slide"
    }
   },
   "source": [
    "### Step 1: Install SQLite and sqlite3 and creat your database\n",
    "\n",
    "1. Install sqlite and GUI interface for the database by downloading this app: http://sqlitebrowser.org/\n",
    "\n",
    "1. install sqlite3 package to access and manage sqlite databases with python by running: ```pip install sqlite3``` in the command line\n",
    "1. Open DB Browser for SQLite and create a new database"
   ]
  },
  {
   "cell_type": "markdown",
   "metadata": {
    "slideshow": {
     "slide_type": "slide"
    }
   },
   "source": [
    "### Step 2: Import the library and connect to your database"
   ]
  },
  {
   "cell_type": "code",
   "execution_count": 26,
   "metadata": {
    "slideshow": {
     "slide_type": "fragment"
    }
   },
   "outputs": [],
   "source": [
    "import sqlite3\n",
    "conn = sqlite3.connect(\"AlbumDB.db\")\n",
    "c = conn.cursor()"
   ]
  },
  {
   "cell_type": "markdown",
   "metadata": {
    "slideshow": {
     "slide_type": "slide"
    }
   },
   "source": [
    "### Step 3: Create and populate tables that don't have foreign keys"
   ]
  },
  {
   "cell_type": "markdown",
   "metadata": {
    "slideshow": {
     "slide_type": "fragment"
    }
   },
   "source": [
    "#### Albums"
   ]
  },
  {
   "cell_type": "code",
   "execution_count": 28,
   "metadata": {
    "slideshow": {
     "slide_type": "fragment"
    }
   },
   "outputs": [],
   "source": [
    "#convert df to list of tuples and reformat each value for entry to database\n",
    "album_records = [(x[\"Album\"],\n",
    "                  str(x[\"Duration_Delta\"]),\n",
    "                  int(x[\"Duration_Seconds\"]), \n",
    "                  int(x[\"Song\"]))\n",
    "                 for x in df_album.to_dict(\"records\")]"
   ]
  },
  {
   "cell_type": "code",
   "execution_count": 29,
   "metadata": {
    "slideshow": {
     "slide_type": "slide"
    }
   },
   "outputs": [],
   "source": [
    "#creates album table\n",
    "c.execute('DROP TABLE IF EXISTS Album')\n",
    "c.execute('''CREATE TABLE Album (\n",
    "                Id INTEGER NOT NULL PRIMARY KEY AUTOINCREMENT UNIQUE,\n",
    "                Name TEXT,\n",
    "                Duration_Text TEXT,\n",
    "                Duration_Seconds INTEGER,\n",
    "                Song_Count INTEGER\n",
    "             )''')\n",
    "#inserts values from album_record list\n",
    "c.executemany('''INSERT INTO Album (Name, Duration_Text, Duration_Seconds, Song_Count)\n",
    "                 VALUES (?,?,?,?)''',\n",
    "              album_records)\n",
    "#commits changes to the database\n",
    "conn.commit()"
   ]
  },
  {
   "cell_type": "markdown",
   "metadata": {
    "slideshow": {
     "slide_type": "slide"
    }
   },
   "source": [
    "#### Playlists"
   ]
  },
  {
   "cell_type": "code",
   "execution_count": 30,
   "metadata": {
    "slideshow": {
     "slide_type": "fragment"
    }
   },
   "outputs": [],
   "source": [
    "#convert df to list of tuples and reformat each value for entry to database\n",
    "playlist_records = [(x[\"Playlist\"],\n",
    "                     str(x[\"Duration_Delta\"]),\n",
    "                     int(x[\"Duration_Seconds\"]), \n",
    "                     int(x[\"Song\"]))\n",
    "                    for x in df_playlist.to_dict(\"records\")]"
   ]
  },
  {
   "cell_type": "code",
   "execution_count": 31,
   "metadata": {
    "slideshow": {
     "slide_type": "slide"
    }
   },
   "outputs": [],
   "source": [
    "#creates playlist table\n",
    "c.execute('DROP TABLE IF EXISTS Playlist')\n",
    "c.execute('''CREATE TABLE Playlist (\n",
    "                Id INTEGER NOT NULL PRIMARY KEY AUTOINCREMENT UNIQUE,\n",
    "                Name TEXT,\n",
    "                Duration_Text TEXT,\n",
    "                Duration_Seconds INTEGER,\n",
    "                Song_Count INTEGER\n",
    "             )''')\n",
    "#inserts values from playlist_record list\n",
    "c.executemany('''INSERT INTO Playlist (Name, Duration_Text, Duration_Seconds, Song_Count)\n",
    "                 VALUES (?,?,?,?)''',\n",
    "              playlist_records)\n",
    "#commits changes to the database\n",
    "conn.commit()"
   ]
  },
  {
   "cell_type": "markdown",
   "metadata": {
    "slideshow": {
     "slide_type": "slide"
    }
   },
   "source": [
    "#### Artists"
   ]
  },
  {
   "cell_type": "code",
   "execution_count": 32,
   "metadata": {
    "slideshow": {
     "slide_type": "fragment"
    }
   },
   "outputs": [],
   "source": [
    "#convert df to list of tuples and reformat each value for entry to database\n",
    "artist_records = [(x[\"Artist\"],\n",
    "                   str(x[\"Duration_Delta\"]),\n",
    "                   int(x[\"Duration_Seconds\"]), \n",
    "                   int(x[\"Song\"]))\n",
    "                  for x in df_artist.to_dict(\"records\")]"
   ]
  },
  {
   "cell_type": "code",
   "execution_count": 33,
   "metadata": {
    "slideshow": {
     "slide_type": "subslide"
    }
   },
   "outputs": [],
   "source": [
    "#creates Artist table\n",
    "c.execute('DROP TABLE IF EXISTS Artist')\n",
    "c.execute('''CREATE TABLE Artist (\n",
    "                Id INTEGER NOT NULL PRIMARY KEY AUTOINCREMENT UNIQUE,\n",
    "                Name TEXT,\n",
    "                Duration_Text TEXT,\n",
    "                Duration_Seconds INTEGER,\n",
    "                Song_Count INTEGER\n",
    "             )''')\n",
    "#inserts values from artist_records list\n",
    "c.executemany('''INSERT INTO Artist (Name, Duration_Text, Duration_Seconds, Song_Count)\n",
    "                 VALUES (?,?,?,?)''',\n",
    "              artist_records)\n",
    "#commits changes to the database\n",
    "conn.commit()"
   ]
  },
  {
   "cell_type": "markdown",
   "metadata": {
    "slideshow": {
     "slide_type": "slide"
    }
   },
   "source": [
    "#### Genres"
   ]
  },
  {
   "cell_type": "code",
   "execution_count": 34,
   "metadata": {
    "slideshow": {
     "slide_type": "fragment"
    }
   },
   "outputs": [],
   "source": [
    "#convert df to list of tuples and reformat each value for entry to database\n",
    "genre_records = [(x[\"Genre\"],\n",
    "                  str(x[\"Duration_Delta\"]),\n",
    "                  int(x[\"Duration_Seconds\"]), \n",
    "                  int(x[\"Song\"]))\n",
    "                 for x in df_genre.to_dict(\"records\")]"
   ]
  },
  {
   "cell_type": "code",
   "execution_count": 35,
   "metadata": {
    "slideshow": {
     "slide_type": "slide"
    }
   },
   "outputs": [],
   "source": [
    "#creates genre table\n",
    "c.execute('DROP TABLE IF EXISTS Genre')\n",
    "c.execute('''CREATE TABLE Genre (\n",
    "                Id INTEGER NOT NULL PRIMARY KEY AUTOINCREMENT UNIQUE,\n",
    "                Name TEXT,\n",
    "                Duration_Text TEXT,\n",
    "                Duration_Seconds INTEGER,\n",
    "                Song_Count INTEGER\n",
    "             )''')\n",
    "#inserts values from artist_records list\n",
    "c.executemany('''INSERT INTO Genre (Name, Duration_Text, Duration_Seconds, Song_Count)\n",
    "                 VALUES (?,?,?,?)''',\n",
    "              genre_records)\n",
    "#commits changes to the database\n",
    "conn.commit()"
   ]
  },
  {
   "cell_type": "markdown",
   "metadata": {
    "slideshow": {
     "slide_type": "slide"
    }
   },
   "source": [
    "### Step 4: Query records, merge, and repeat Step 3 for tables with foreign keys"
   ]
  },
  {
   "cell_type": "markdown",
   "metadata": {
    "slideshow": {
     "slide_type": "fragment"
    }
   },
   "source": [
    "#### Songs"
   ]
  },
  {
   "cell_type": "code",
   "execution_count": 36,
   "metadata": {
    "slideshow": {
     "slide_type": "fragment"
    }
   },
   "outputs": [],
   "source": [
    "#query and retrieve name and id field from album table\n",
    "c.execute('SELECT Id, Name FROM Album')\n",
    "album_ids = c.fetchall()"
   ]
  },
  {
   "cell_type": "code",
   "execution_count": 37,
   "metadata": {
    "slideshow": {
     "slide_type": "slide"
    }
   },
   "outputs": [
    {
     "data": {
      "text/html": [
       "<div>\n",
       "<style>\n",
       "    .dataframe thead tr:only-child th {\n",
       "        text-align: right;\n",
       "    }\n",
       "\n",
       "    .dataframe thead th {\n",
       "        text-align: left;\n",
       "    }\n",
       "\n",
       "    .dataframe tbody tr th {\n",
       "        vertical-align: top;\n",
       "    }\n",
       "</style>\n",
       "<table border=\"1\" class=\"dataframe\">\n",
       "  <thead>\n",
       "    <tr style=\"text-align: right;\">\n",
       "      <th></th>\n",
       "      <th>Song</th>\n",
       "      <th>Artist</th>\n",
       "      <th>Album</th>\n",
       "      <th>Duration</th>\n",
       "      <th>Genre</th>\n",
       "      <th>Playlist</th>\n",
       "      <th>Duration_Delta</th>\n",
       "      <th>Duration_Seconds</th>\n",
       "      <th>Id</th>\n",
       "    </tr>\n",
       "  </thead>\n",
       "  <tbody>\n",
       "    <tr>\n",
       "      <th>0</th>\n",
       "      <td>S.O.B.</td>\n",
       "      <td>[Nathaniel Rateliff &amp; The Night Sweats]</td>\n",
       "      <td>Nathaniel Rateliff &amp; The Night Sweats</td>\n",
       "      <td>00:04:08</td>\n",
       "      <td>[Rock, Soul, Blues]</td>\n",
       "      <td>Gritty</td>\n",
       "      <td>00:04:08</td>\n",
       "      <td>248</td>\n",
       "      <td>11</td>\n",
       "    </tr>\n",
       "    <tr>\n",
       "      <th>1</th>\n",
       "      <td>Howling At Nothing</td>\n",
       "      <td>[Nathaniel Rateliff &amp; The Night Sweats]</td>\n",
       "      <td>Nathaniel Rateliff &amp; The Night Sweats</td>\n",
       "      <td>00:03:10</td>\n",
       "      <td>[Soul, Blues, Rock]</td>\n",
       "      <td>Gritty</td>\n",
       "      <td>00:03:10</td>\n",
       "      <td>190</td>\n",
       "      <td>11</td>\n",
       "    </tr>\n",
       "    <tr>\n",
       "      <th>2</th>\n",
       "      <td>Lengths</td>\n",
       "      <td>[The Black Keys]</td>\n",
       "      <td>Rubber Factory</td>\n",
       "      <td>00:04:52</td>\n",
       "      <td>[Blues, Rock, Folk]</td>\n",
       "      <td>Gritty</td>\n",
       "      <td>00:04:52</td>\n",
       "      <td>292</td>\n",
       "      <td>15</td>\n",
       "    </tr>\n",
       "    <tr>\n",
       "      <th>3</th>\n",
       "      <td>Don't Wanna Fight</td>\n",
       "      <td>[Alabama Shakes]</td>\n",
       "      <td>Sound &amp; Color</td>\n",
       "      <td>00:03:53</td>\n",
       "      <td>[Blues, Soul, Rock]</td>\n",
       "      <td>Gritty</td>\n",
       "      <td>00:03:53</td>\n",
       "      <td>233</td>\n",
       "      <td>20</td>\n",
       "    </tr>\n",
       "    <tr>\n",
       "      <th>4</th>\n",
       "      <td>Howlin' For You</td>\n",
       "      <td>[The Black Keys]</td>\n",
       "      <td>Brothers</td>\n",
       "      <td>00:03:12</td>\n",
       "      <td>[Blues, Rock]</td>\n",
       "      <td>Gritty</td>\n",
       "      <td>00:03:12</td>\n",
       "      <td>192</td>\n",
       "      <td>6</td>\n",
       "    </tr>\n",
       "  </tbody>\n",
       "</table>\n",
       "</div>"
      ],
      "text/plain": [
       "                 Song                                   Artist  \\\n",
       "0              S.O.B.  [Nathaniel Rateliff & The Night Sweats]   \n",
       "1  Howling At Nothing  [Nathaniel Rateliff & The Night Sweats]   \n",
       "2             Lengths                         [The Black Keys]   \n",
       "3   Don't Wanna Fight                         [Alabama Shakes]   \n",
       "4     Howlin' For You                         [The Black Keys]   \n",
       "\n",
       "                                   Album  Duration                Genre  \\\n",
       "0  Nathaniel Rateliff & The Night Sweats  00:04:08  [Rock, Soul, Blues]   \n",
       "1  Nathaniel Rateliff & The Night Sweats  00:03:10  [Soul, Blues, Rock]   \n",
       "2                         Rubber Factory  00:04:52  [Blues, Rock, Folk]   \n",
       "3                          Sound & Color  00:03:53  [Blues, Soul, Rock]   \n",
       "4                               Brothers  00:03:12        [Blues, Rock]   \n",
       "\n",
       "  Playlist Duration_Delta  Duration_Seconds  Id  \n",
       "0   Gritty       00:04:08               248  11  \n",
       "1   Gritty       00:03:10               190  11  \n",
       "2   Gritty       00:04:52               292  15  \n",
       "3   Gritty       00:03:53               233  20  \n",
       "4   Gritty       00:03:12               192   6  "
      ]
     },
     "execution_count": 37,
     "metadata": {},
     "output_type": "execute_result"
    }
   ],
   "source": [
    "#convert to dataframe then merge with df_song\n",
    "df_album_id = pd.DataFrame(album_ids, columns=[\"Id\", \"Album\"])\n",
    "\n",
    "df_song_join = df_song.merge(df_album_id, on=\"Album\")\n",
    "df_song_join.head()"
   ]
  },
  {
   "cell_type": "code",
   "execution_count": 38,
   "metadata": {
    "slideshow": {
     "slide_type": "slide"
    }
   },
   "outputs": [],
   "source": [
    "#convert df to list of tuples and reformat each value for entry to database\n",
    "song_records = [(x[\"Song\"],\n",
    "                 str(x[\"Duration_Delta\"]),\n",
    "                 int(x[\"Duration_Seconds\"]), \n",
    "                 int(x[\"Id\"]))\n",
    "                for x in df_song_join.to_dict(\"records\")]"
   ]
  },
  {
   "cell_type": "code",
   "execution_count": 39,
   "metadata": {
    "slideshow": {
     "slide_type": "fragment"
    }
   },
   "outputs": [],
   "source": [
    "#creates genre table\n",
    "c.execute('DROP TABLE IF EXISTS Song')\n",
    "c.execute('''CREATE TABLE Song (\n",
    "                Id INTEGER NOT NULL PRIMARY KEY AUTOINCREMENT UNIQUE,\n",
    "                Name TEXT,\n",
    "                Duration_Text TEXT,\n",
    "                Duration_Seconds INTEGER,\n",
    "                Album_Id INTEGER,\n",
    "                FOREIGN KEY(Album_Id) REFERENCES Album (Id)\n",
    "             )''')\n",
    "#inserts values from artist_records list\n",
    "c.executemany('''INSERT INTO Song (Name, Duration_Text, Duration_Seconds, Album_Id)\n",
    "                 VALUES (?,?,?,?)''',\n",
    "              song_records)\n",
    "#commits changes to the database\n",
    "conn.commit()"
   ]
  },
  {
   "cell_type": "markdown",
   "metadata": {
    "slideshow": {
     "slide_type": "slide"
    }
   },
   "source": [
    "#### Playlist Song"
   ]
  },
  {
   "cell_type": "code",
   "execution_count": 40,
   "metadata": {
    "slideshow": {
     "slide_type": "fragment"
    }
   },
   "outputs": [],
   "source": [
    "#query and retrieve name and id field from song table\n",
    "c.execute('SELECT Id, Name FROM Song')\n",
    "song_ids = c.fetchall()\n",
    "\n",
    "#query and retrieve name and id fields from playlist table\n",
    "c.execute('SELECT Id, Name FROM Playlist')\n",
    "playlist_ids = c.fetchall()"
   ]
  },
  {
   "cell_type": "code",
   "execution_count": 41,
   "metadata": {
    "slideshow": {
     "slide_type": "fragment"
    }
   },
   "outputs": [],
   "source": [
    "#convert to dataframe results to dataframes\n",
    "df_song_id = pd.DataFrame(song_ids, columns=[\"Song_Id\", \"Song\"])\n",
    "df_playlist_id = pd.DataFrame(playlist_ids, columns=[\"Playlist_Id\", \"Playlist\"])"
   ]
  },
  {
   "cell_type": "code",
   "execution_count": 42,
   "metadata": {
    "slideshow": {
     "slide_type": "slide"
    }
   },
   "outputs": [
    {
     "data": {
      "text/html": [
       "<div>\n",
       "<style>\n",
       "    .dataframe thead tr:only-child th {\n",
       "        text-align: right;\n",
       "    }\n",
       "\n",
       "    .dataframe thead th {\n",
       "        text-align: left;\n",
       "    }\n",
       "\n",
       "    .dataframe tbody tr th {\n",
       "        vertical-align: top;\n",
       "    }\n",
       "</style>\n",
       "<table border=\"1\" class=\"dataframe\">\n",
       "  <thead>\n",
       "    <tr style=\"text-align: right;\">\n",
       "      <th></th>\n",
       "      <th>Song</th>\n",
       "      <th>Artist</th>\n",
       "      <th>Album</th>\n",
       "      <th>Duration</th>\n",
       "      <th>Genre</th>\n",
       "      <th>Playlist</th>\n",
       "      <th>Duration_Delta</th>\n",
       "      <th>Duration_Seconds</th>\n",
       "      <th>Song_Id</th>\n",
       "      <th>Playlist_Id</th>\n",
       "    </tr>\n",
       "  </thead>\n",
       "  <tbody>\n",
       "    <tr>\n",
       "      <th>0</th>\n",
       "      <td>S.O.B.</td>\n",
       "      <td>[Nathaniel Rateliff &amp; The Night Sweats]</td>\n",
       "      <td>Nathaniel Rateliff &amp; The Night Sweats</td>\n",
       "      <td>00:04:08</td>\n",
       "      <td>[Rock, Soul, Blues]</td>\n",
       "      <td>Gritty</td>\n",
       "      <td>00:04:08</td>\n",
       "      <td>248</td>\n",
       "      <td>1</td>\n",
       "      <td>2</td>\n",
       "    </tr>\n",
       "    <tr>\n",
       "      <th>1</th>\n",
       "      <td>Lengths</td>\n",
       "      <td>[The Black Keys]</td>\n",
       "      <td>Rubber Factory</td>\n",
       "      <td>00:04:52</td>\n",
       "      <td>[Blues, Rock, Folk]</td>\n",
       "      <td>Gritty</td>\n",
       "      <td>00:04:52</td>\n",
       "      <td>292</td>\n",
       "      <td>3</td>\n",
       "      <td>2</td>\n",
       "    </tr>\n",
       "    <tr>\n",
       "      <th>2</th>\n",
       "      <td>Don't Wanna Fight</td>\n",
       "      <td>[Alabama Shakes]</td>\n",
       "      <td>Sound &amp; Color</td>\n",
       "      <td>00:03:53</td>\n",
       "      <td>[Blues, Soul, Rock]</td>\n",
       "      <td>Gritty</td>\n",
       "      <td>00:03:53</td>\n",
       "      <td>233</td>\n",
       "      <td>4</td>\n",
       "      <td>2</td>\n",
       "    </tr>\n",
       "    <tr>\n",
       "      <th>3</th>\n",
       "      <td>Howlin' For You</td>\n",
       "      <td>[The Black Keys]</td>\n",
       "      <td>Brothers</td>\n",
       "      <td>00:03:12</td>\n",
       "      <td>[Blues, Rock]</td>\n",
       "      <td>Gritty</td>\n",
       "      <td>00:03:12</td>\n",
       "      <td>192</td>\n",
       "      <td>5</td>\n",
       "      <td>2</td>\n",
       "    </tr>\n",
       "    <tr>\n",
       "      <th>4</th>\n",
       "      <td>Twenty Miles</td>\n",
       "      <td>[Deer Tick]</td>\n",
       "      <td>The Black Dirt Sessions</td>\n",
       "      <td>00:03:44</td>\n",
       "      <td>[Blues, Rock, Folk]</td>\n",
       "      <td>Gritty</td>\n",
       "      <td>00:03:44</td>\n",
       "      <td>224</td>\n",
       "      <td>7</td>\n",
       "      <td>2</td>\n",
       "    </tr>\n",
       "  </tbody>\n",
       "</table>\n",
       "</div>"
      ],
      "text/plain": [
       "                Song                                   Artist  \\\n",
       "0             S.O.B.  [Nathaniel Rateliff & The Night Sweats]   \n",
       "1            Lengths                         [The Black Keys]   \n",
       "2  Don't Wanna Fight                         [Alabama Shakes]   \n",
       "3    Howlin' For You                         [The Black Keys]   \n",
       "4       Twenty Miles                              [Deer Tick]   \n",
       "\n",
       "                                   Album  Duration                Genre  \\\n",
       "0  Nathaniel Rateliff & The Night Sweats  00:04:08  [Rock, Soul, Blues]   \n",
       "1                         Rubber Factory  00:04:52  [Blues, Rock, Folk]   \n",
       "2                          Sound & Color  00:03:53  [Blues, Soul, Rock]   \n",
       "3                               Brothers  00:03:12        [Blues, Rock]   \n",
       "4                The Black Dirt Sessions  00:03:44  [Blues, Rock, Folk]   \n",
       "\n",
       "  Playlist Duration_Delta  Duration_Seconds  Song_Id  Playlist_Id  \n",
       "0   Gritty       00:04:08               248        1            2  \n",
       "1   Gritty       00:04:52               292        3            2  \n",
       "2   Gritty       00:03:53               233        4            2  \n",
       "3   Gritty       00:03:12               192        5            2  \n",
       "4   Gritty       00:03:44               224        7            2  "
      ]
     },
     "execution_count": 42,
     "metadata": {},
     "output_type": "execute_result"
    }
   ],
   "source": [
    "df_playlist_song1 = df_all.merge(df_song_id, on=\"Song\")\n",
    "df_playlist_song2 = df_playlist_song1.merge(df_playlist_id, on=\"Playlist\")\n",
    "df_playlist_song2.head()"
   ]
  },
  {
   "cell_type": "code",
   "execution_count": 43,
   "metadata": {
    "slideshow": {
     "slide_type": "slide"
    }
   },
   "outputs": [],
   "source": [
    "#convert df to list of tuples and reformat each value for entry to database\n",
    "playlist_song_records = [(int(x[\"Song_Id\"]),\n",
    "                          int(x[\"Playlist_Id\"]))\n",
    "                         for x in df_playlist_song2.to_dict(\"records\")]"
   ]
  },
  {
   "cell_type": "code",
   "execution_count": 44,
   "metadata": {
    "slideshow": {
     "slide_type": "fragment"
    }
   },
   "outputs": [],
   "source": [
    "#creates playlist song table\n",
    "c.execute('DROP TABLE IF EXISTS Playlist_Song')\n",
    "c.execute('''CREATE TABLE Playlist_Song (\n",
    "             Song_Id INTEGER,\n",
    "             Playlist_Id INTEGER,\n",
    "             PRIMARY KEY(Song_Id, Playlist_Id),\n",
    "             FOREIGN KEY(Song_Id) REFERENCES Song (Id),\n",
    "             FOREIGN KEY(Playlist_Id) REFERENCES Playlist (Id))''')\n",
    "\n",
    "c.executemany('INSERT INTO Playlist_Song (Song_ID, Playlist_ID) VALUES (?, ?)',\n",
    "              playlist_song_records)\n",
    "conn.commit()"
   ]
  },
  {
   "cell_type": "code",
   "execution_count": null,
   "metadata": {},
   "outputs": [],
   "source": []
  }
 ],
 "metadata": {
  "celltoolbar": "Slideshow",
  "kernelspec": {
   "display_name": "Python 3",
   "language": "python",
   "name": "python3"
  },
  "language_info": {
   "codemirror_mode": {
    "name": "ipython",
    "version": 3
   },
   "file_extension": ".py",
   "mimetype": "text/x-python",
   "name": "python",
   "nbconvert_exporter": "python",
   "pygments_lexer": "ipython3",
   "version": "3.6.5"
  }
 },
 "nbformat": 4,
 "nbformat_minor": 2
}
